{
 "cells": [
  {
   "cell_type": "code",
   "execution_count": null,
   "id": "false-visitor",
   "metadata": {},
   "outputs": [],
   "source": [
    "import os\n",
    "import numpy as np\n",
    "import pandas as pd\n",
    "import time\n",
    "\n",
    "from regain.covariance import GraphicalLasso as rg_GL\n",
    "from sklearn.covariance import GraphicalLasso as sk_GL\n",
    "\n",
    "\n",
    "from regain_benchmark import regain_time\n",
    "from sklearn_benchmark import sklearn_time\n",
    "from gglasso_benchmark import gglasso_time\n",
    "\n",
    "from utilita import network_generation, model_solution, benchmark_parameters \n",
    "from utilita import sparsity_benchmark, dict_shape, calc_hamming_dict, benchmarks_dataframe\n",
    "\n",
    "from plots import plot_accuracy, plot_scalability, plot_lambdas, plot_bm\n",
    "\n",
    "from tqdm.contrib import tzip\n",
    "from tqdm.contrib.itertools import product\n",
    "\n",
    "pd.set_option('display.max_columns', None)"
   ]
  },
  {
   "cell_type": "markdown",
   "id": "moral-roberts",
   "metadata": {},
   "source": [
    "The notebook illustrates the comparison of methods solving [Graphical lasso](https://en.wikipedia.org/wiki/Graphical_lasso) problem implemented in [regain](https://github.com/fdtomasi/regain), [gglasso](https://github.com/fabian-sp/GGLasso/tree/o-benchmarking) and [sklearn](https://scikit-learn.org/stable/modules/generated/sklearn.covariance.graphical_lasso.html) libraries, respectivelly."
   ]
  },
  {
   "cell_type": "markdown",
   "id": "defined-century",
   "metadata": {},
   "source": [
    "### Power networks"
   ]
  },
  {
   "cell_type": "markdown",
   "id": "advised-better",
   "metadata": {},
   "source": [
    "We generate a precision matrix following the approach of [Danaher et al.,\n",
    "2014](https://arxiv.org/abs/1111.0324) where blockwise [subnetworks](https://en.wikipedia.org/wiki/Scale-free_network) are sampled from a power-law degree distribution."
   ]
  },
  {
   "cell_type": "code",
   "execution_count": null,
   "id": "stock-wheat",
   "metadata": {},
   "outputs": [],
   "source": [
    "S_dict=dict()\n",
    "X_dict=dict()\n",
    "Theta_dict=dict()\n",
    "\n",
    "#p_list=[100, 500, 1000, 2000]\n",
    "#N_list=[110, 550, 1100, 2200]\n",
    "\n",
    "p_list=[100, 200]\n",
    "N_list=[110, 220]\n",
    "\n",
    "print(\" Power network generation \".center(40, '-'))\n",
    "\n",
    "for p, N in tzip(p_list, N_list):\n",
    "    start = time.perf_counter()\n",
    "    S, X, Theta = network_generation(p, N, M=10)\n",
    "    end = time.perf_counter()\n",
    "    print(\"p: %5d, N : %5d, Time : %5.4f\" % (p, N, end-start))\n",
    "\n",
    "    S_dict[p, N] = S.copy()\n",
    "    X_dict[p, N] = X.copy()\n",
    "    Theta_dict[p, N] = Theta.copy()"
   ]
  },
  {
   "cell_type": "code",
   "execution_count": null,
   "id": "curious-diagram",
   "metadata": {},
   "outputs": [],
   "source": [
    "print(\"\\n Shape of S_i:\", dict_shape(S_dict))\n",
    "print(\"\\n Shape of X_i:\", dict_shape(X_dict))\n",
    "print(\"\\n Shape of Theta_i:\", dict_shape(Theta_dict))"
   ]
  },
  {
   "cell_type": "markdown",
   "id": "unable-joint",
   "metadata": {},
   "source": [
    "### Hyperparameters"
   ]
  },
  {
   "cell_type": "markdown",
   "id": "exciting-checklist",
   "metadata": {},
   "source": [
    "Since the solution of graphical lasso varies in the presented methods, we pick hyperparameters which allow us to have approximatelly similar solutions for all the solvers, so one can compare the methods.\n",
    "\n",
    "\n",
    "We take the following steps to achieve comparable soltuions of graphical lasso:\n",
    "- Solve graphical problem by one of the methods at the high level of precision ( $Z^{*}$)\n",
    "- Solve graphical problem by each of the solvers at the lower level of precision ($Z_{i}$)\n",
    "- Calculate the normalized Eucledean distance ($\\text{accuracy}$) between $Z^{*}$ and solution $Z_{i}$:\n",
    "$$\n",
    "\\begin{align}\n",
    "\\text{accuracy} = \\frac{\\lVert Z^{*} - Z_{i} \\rVert}{\\lVert Z^{*} \\rVert}\n",
    "\\end{align}\n",
    "$$"
   ]
  },
  {
   "cell_type": "code",
   "execution_count": null,
   "id": "crude-session",
   "metadata": {},
   "outputs": [],
   "source": [
    "lambda_list = [0.5, 0.1, 0.05]\n",
    "sk_params, rg_params, gglasso_params, lambda_list = benchmark_parameters(lambda_list = lambda_list)"
   ]
  },
  {
   "cell_type": "markdown",
   "id": "subject-apartment",
   "metadata": {},
   "source": [
    "### Model solution"
   ]
  },
  {
   "cell_type": "code",
   "execution_count": null,
   "id": "specified-difference",
   "metadata": {},
   "outputs": [],
   "source": [
    "model_time_dict = dict()\n",
    "model_Z_dict = dict()\n",
    "reference_solver = \"regain\"\n",
    "\n",
    "print(f\"Solving for a reference solution with solver {reference_solver}:\")\n",
    "\n",
    "for X, l1 in product(list(X_dict.values()), lambda_list):\n",
    "    \n",
    "    Z, Z_time, info = model_solution(solver=reference_solver, X=X, lambda1=l1)\n",
    "    \n",
    "    key = \"p_\" + str(X.shape[1]) + \"_N_\" + str(X.shape[0]) + \"_l1_\" + str(l1)\n",
    "    model_time_dict.update({key: Z_time})\n",
    "    model_Z_dict.update({key: Z})"
   ]
  },
  {
   "cell_type": "code",
   "execution_count": null,
   "id": "environmental-montreal",
   "metadata": {},
   "outputs": [],
   "source": [
    "time_dict = dict()\n",
    "accuracy_dict = dict()\n",
    "Z_dict = dict()\n",
    "iter_dict = dict()"
   ]
  },
  {
   "cell_type": "code",
   "execution_count": null,
   "id": "muslim-extreme",
   "metadata": {},
   "outputs": [],
   "source": [
    "# how often to repeat each call (averaging runtime)\n",
    "n_iter = 2"
   ]
  },
  {
   "cell_type": "markdown",
   "id": "parliamentary-conservative",
   "metadata": {},
   "source": [
    "### GGLasso"
   ]
  },
  {
   "cell_type": "code",
   "execution_count": null,
   "id": "worst-apache",
   "metadata": {},
   "outputs": [],
   "source": [
    "for X, S in tzip(list(X_dict.values()), list(S_dict.values())):\n",
    "    Omega_0 = np.eye(len(S))\n",
    "    gg_result = gglasso_time(S=S, X=X, Omega_0=Omega_0, Z=model_Z_dict, lambda_list=lambda_list,\n",
    "                                              n_iter=n_iter, gglasso_params=gglasso_params, warm_start=False)\n",
    "    \n",
    "    time_dict.update(gg_result['time'])\n",
    "    accuracy_dict.update(gg_result['accuracy'])\n",
    "    Z_dict.update(gg_result['sol'])\n",
    "    iter_dict.update(gg_result['iter'])"
   ]
  },
  {
   "cell_type": "markdown",
   "id": "amateur-active",
   "metadata": {},
   "source": [
    "### Sklearn"
   ]
  },
  {
   "cell_type": "code",
   "execution_count": null,
   "id": "bigger-silicon",
   "metadata": {
    "scrolled": true
   },
   "outputs": [],
   "source": [
    "for X, S in tzip(list(X_dict.values()), list(S_dict.values())):\n",
    "    sk_result = sklearn_time(X=X, Z=model_Z_dict, sk_params=sk_params, lambda_list=lambda_list, \\\n",
    "                                              n_iter=n_iter, max_iter=30)\n",
    "    \n",
    "    time_dict.update(sk_result['time'])\n",
    "    accuracy_dict.update(sk_result['accuracy'])\n",
    "    Z_dict.update(sk_result['sol'])\n",
    "    iter_dict.update(sk_result['iter'])"
   ]
  },
  {
   "cell_type": "markdown",
   "id": "structured-valentine",
   "metadata": {},
   "source": [
    "### Regain"
   ]
  },
  {
   "cell_type": "code",
   "execution_count": null,
   "id": "diverse-emperor",
   "metadata": {},
   "outputs": [],
   "source": [
    "for X, S in tzip(list(X_dict.values()), list(S_dict.values())):\n",
    "    rg_result = regain_time(X=X, Z=model_Z_dict, rg_params=rg_params, lambda_list=lambda_list, \\\n",
    "                                             n_iter=n_iter, warm_start=False)\n",
    "    \n",
    "    time_dict.update(rg_result['time'])\n",
    "    accuracy_dict.update(rg_result['accuracy'])\n",
    "    Z_dict.update(rg_result['sol'])\n",
    "    iter_dict.update(rg_result['iter'])"
   ]
  },
  {
   "cell_type": "markdown",
   "id": "sacred-sponsorship",
   "metadata": {},
   "source": [
    "### Hamming distances"
   ]
  },
  {
   "cell_type": "markdown",
   "id": "broken-effects",
   "metadata": {},
   "source": [
    "We calculate [Hamming](https://en.wikipedia.org/wiki/Hamming_distance) distance between model solution $Z^{*}$ and given solution $Z_{i}$ with a specified rounding threshold for non zero entries."
   ]
  },
  {
   "cell_type": "code",
   "execution_count": null,
   "id": "hairy-atlas",
   "metadata": {},
   "outputs": [],
   "source": [
    "hamming_dict = calc_hamming_dict(Theta_dict=Theta_dict, Z_dict=Z_dict, t_rounding=1e-8)"
   ]
  },
  {
   "cell_type": "markdown",
   "id": "honey-respondent",
   "metadata": {},
   "source": [
    "### Visualization"
   ]
  },
  {
   "cell_type": "code",
   "execution_count": null,
   "id": "established-polish",
   "metadata": {},
   "outputs": [],
   "source": [
    "df = benchmarks_dataframe(time_dict, accuracy_dict, hamming_dict, iter_dict)\n",
    "df.head()\n",
    "\n",
    "#df.to_csv('../data/synthetic/bm2000.csv')"
   ]
  },
  {
   "cell_type": "code",
   "execution_count": null,
   "id": "narrow-passage",
   "metadata": {},
   "outputs": [],
   "source": [
    "plot_bm(df, min_acc = 1e-3, lambda_list=lambda_list)"
   ]
  },
  {
   "cell_type": "code",
   "execution_count": null,
   "id": "tested-collect",
   "metadata": {},
   "outputs": [],
   "source": [
    "fig = plot_lambdas(df, upper_bound=0.1, lower_bound=0.000001)\n",
    "fig.show()"
   ]
  },
  {
   "cell_type": "markdown",
   "id": "broken-johns",
   "metadata": {},
   "source": [
    "It is clear that solving graphical lasso on individual blocks is less time consuming then solving it on the entire graph.\n",
    "\n",
    "So, one can advise to use a block version of ADMM implemented in gglasso in a high-dimensional setup."
   ]
  },
  {
   "cell_type": "code",
   "execution_count": null,
   "id": "european-simpson",
   "metadata": {},
   "outputs": [],
   "source": [
    "fig = plot_accuracy(df, upper_bound=0.1, lower_bound=0.0000001, lambda_filter=0.05, sortby=['p', 'time'])\n",
    "fig.show()"
   ]
  },
  {
   "cell_type": "code",
   "execution_count": null,
   "id": "rental-fiction",
   "metadata": {},
   "outputs": [],
   "source": [
    "frames = sparsity_benchmark(df, upper_bound=0.01, lower_bound=0.0001, lambda_filter=0.1)\n",
    "frames"
   ]
  }
 ],
 "metadata": {
  "kernelspec": {
   "display_name": "Python 3",
   "language": "python",
   "name": "python3"
  },
  "language_info": {
   "codemirror_mode": {
    "name": "ipython",
    "version": 3
   },
   "file_extension": ".py",
   "mimetype": "text/x-python",
   "name": "python",
   "nbconvert_exporter": "python",
   "pygments_lexer": "ipython3",
   "version": "3.7.10"
  },
  "widgets": {
   "application/vnd.jupyter.widget-state+json": {
    "state": {
     "00cb389cece943ec87810b2981ce29b3": {
      "model_module": "@jupyter-widgets/controls",
      "model_module_version": "1.5.0",
      "model_name": "HTMLModel",
      "state": {
       "layout": "IPY_MODEL_a993d1a682e648d3bac026f6074e170b",
       "style": "IPY_MODEL_e7862c2fddbd4cb0a8b4e3ee7fd28fc5",
       "value": " 2/2 [01:25&lt;00:00, 48.54s/it]"
      }
     },
     "01071b0264b9481c8cc661422676b9b3": {
      "model_module": "@jupyter-widgets/controls",
      "model_module_version": "1.5.0",
      "model_name": "ProgressStyleModel",
      "state": {
       "description_width": ""
      }
     },
     "01139a5c23124b30956e4ffceadbe354": {
      "model_module": "@jupyter-widgets/controls",
      "model_module_version": "1.5.0",
      "model_name": "ProgressStyleModel",
      "state": {
       "description_width": ""
      }
     },
     "038b66342180416db501d0a5dae32661": {
      "model_module": "@jupyter-widgets/controls",
      "model_module_version": "1.5.0",
      "model_name": "HTMLModel",
      "state": {
       "layout": "IPY_MODEL_1a3ec6fa842c410d94a4f31fc850f813",
       "style": "IPY_MODEL_8a8c3b60afb8465bae57d289425bb9a6",
       "value": "  0%"
      }
     },
     "0492462552154dc79f24845579c550f6": {
      "model_module": "@jupyter-widgets/controls",
      "model_module_version": "1.5.0",
      "model_name": "HBoxModel",
      "state": {
       "children": [
        "IPY_MODEL_909da3abfb67431eb03cca84bde41487",
        "IPY_MODEL_a26ff6b3453446928e114d4e72c8c622",
        "IPY_MODEL_5a2bdc5ac3344cd697832f1475c3bb08"
       ],
       "layout": "IPY_MODEL_afc50570aba24f19a73fc4d6fe56bd02"
      }
     },
     "04bb37f0c7d94f639255b5ca62014284": {
      "model_module": "@jupyter-widgets/base",
      "model_module_version": "1.2.0",
      "model_name": "LayoutModel",
      "state": {}
     },
     "0a3f8687371f4becade815abd288749e": {
      "model_module": "@jupyter-widgets/controls",
      "model_module_version": "1.5.0",
      "model_name": "DescriptionStyleModel",
      "state": {
       "description_width": ""
      }
     },
     "0ab88426b8ac471f8691cfce78e48b50": {
      "model_module": "@jupyter-widgets/base",
      "model_module_version": "1.2.0",
      "model_name": "LayoutModel",
      "state": {}
     },
     "0b9d2ec72f9d4fdbb7b907a45a6d1512": {
      "model_module": "@jupyter-widgets/controls",
      "model_module_version": "1.5.0",
      "model_name": "HTMLModel",
      "state": {
       "layout": "IPY_MODEL_93d9eecef7664e04a41e08a43d872928",
       "style": "IPY_MODEL_d1a823e669dc4538809895cd497377ef",
       "value": " 2/2 [00:00&lt;00:00, 13.59it/s]"
      }
     },
     "0cb634a5b95347dd9332a821b948b2bf": {
      "model_module": "@jupyter-widgets/controls",
      "model_module_version": "1.5.0",
      "model_name": "FloatProgressModel",
      "state": {
       "bar_style": "danger",
       "layout": "IPY_MODEL_579c482af79e4407a652a30de540c845",
       "max": 2,
       "style": "IPY_MODEL_834d24d8210245d99a7d5048950d86f2",
       "value": 1
      }
     },
     "0ce1e5330e2d4139a571920bed5d8a47": {
      "model_module": "@jupyter-widgets/controls",
      "model_module_version": "1.5.0",
      "model_name": "HTMLModel",
      "state": {
       "layout": "IPY_MODEL_647d2f9fe34b4a9c90295289c41bedaa",
       "style": "IPY_MODEL_36e4716e9ea041a780d0dbe161e57103",
       "value": " 1/2 [00:00&lt;00:00,  3.02it/s]"
      }
     },
     "0eb0f2cc6bd04f849897a7270f8d42be": {
      "model_module": "@jupyter-widgets/controls",
      "model_module_version": "1.5.0",
      "model_name": "FloatProgressModel",
      "state": {
       "bar_style": "success",
       "layout": "IPY_MODEL_d711df885d324bb580d28da50f6fd2bc",
       "max": 3,
       "style": "IPY_MODEL_c71647082f174d8d802d8ac18f63ec76",
       "value": 3
      }
     },
     "0fc8438a3c2e44579af9d5c51b2fb0fc": {
      "model_module": "@jupyter-widgets/base",
      "model_module_version": "1.2.0",
      "model_name": "LayoutModel",
      "state": {}
     },
     "105768b56da543a1a8e5535efc0fae6f": {
      "model_module": "@jupyter-widgets/base",
      "model_module_version": "1.2.0",
      "model_name": "LayoutModel",
      "state": {}
     },
     "10e5611899634944ab524abc8f91c48f": {
      "model_module": "@jupyter-widgets/controls",
      "model_module_version": "1.5.0",
      "model_name": "DescriptionStyleModel",
      "state": {
       "description_width": ""
      }
     },
     "1245d37ca0ba4c56a9498b64ea715e7e": {
      "model_module": "@jupyter-widgets/controls",
      "model_module_version": "1.5.0",
      "model_name": "HTMLModel",
      "state": {
       "layout": "IPY_MODEL_9fdfc9c89fa14978abe4b3913e0cb7c9",
       "style": "IPY_MODEL_5c39f8e09d7c48f8959f1eb2ba38493d",
       "value": "100%"
      }
     },
     "13f7cd1af3154861b498252fb8c3bcc9": {
      "model_module": "@jupyter-widgets/controls",
      "model_module_version": "1.5.0",
      "model_name": "HBoxModel",
      "state": {
       "children": [
        "IPY_MODEL_038b66342180416db501d0a5dae32661",
        "IPY_MODEL_3ac018e7fc3b4f4089e69535dc5bc2c9",
        "IPY_MODEL_1d6ddf86a9ce4607b84fee44149429cb"
       ],
       "layout": "IPY_MODEL_8c4e39390c244666960bbb35de3abdc2"
      }
     },
     "14572700a9974805ae106d05424af40f": {
      "model_module": "@jupyter-widgets/base",
      "model_module_version": "1.2.0",
      "model_name": "LayoutModel",
      "state": {}
     },
     "16a3ad8b942a40f1b472be012758b1dc": {
      "model_module": "@jupyter-widgets/base",
      "model_module_version": "1.2.0",
      "model_name": "LayoutModel",
      "state": {}
     },
     "1741b6b96c104d9f95310b13de089f14": {
      "model_module": "@jupyter-widgets/controls",
      "model_module_version": "1.5.0",
      "model_name": "HTMLModel",
      "state": {
       "layout": "IPY_MODEL_f5ac991ac5944c3082ffa794e2f11327",
       "style": "IPY_MODEL_1d6561a310cd4538af6813cb1f05da38",
       "value": "100%"
      }
     },
     "18036a05ed2d458e9815b13fa6c0b8dd": {
      "model_module": "@jupyter-widgets/controls",
      "model_module_version": "1.5.0",
      "model_name": "HTMLModel",
      "state": {
       "layout": "IPY_MODEL_14572700a9974805ae106d05424af40f",
       "style": "IPY_MODEL_57735f918eea429484bc25ccfbce0d6f",
       "value": " 50%"
      }
     },
     "190ac010154c43bf9577f8eb9fe5034e": {
      "model_module": "@jupyter-widgets/controls",
      "model_module_version": "1.5.0",
      "model_name": "DescriptionStyleModel",
      "state": {
       "description_width": ""
      }
     },
     "192fcf0164594da780bbda702ad7fbf0": {
      "model_module": "@jupyter-widgets/controls",
      "model_module_version": "1.5.0",
      "model_name": "HTMLModel",
      "state": {
       "layout": "IPY_MODEL_840fb0e1679b4973a8ace17f2594adc8",
       "style": "IPY_MODEL_92d9319aa08a41d29179a79cbc5d2079",
       "value": " 50%"
      }
     },
     "19e4ae55e2be4530aefdbacf42065672": {
      "model_module": "@jupyter-widgets/controls",
      "model_module_version": "1.5.0",
      "model_name": "DescriptionStyleModel",
      "state": {
       "description_width": ""
      }
     },
     "1a0b0c87dd5a4f9ab1011bd15cc60a8c": {
      "model_module": "@jupyter-widgets/controls",
      "model_module_version": "1.5.0",
      "model_name": "HTMLModel",
      "state": {
       "layout": "IPY_MODEL_9c082ab458ae454589b11452f4a12dcd",
       "style": "IPY_MODEL_eb7d96675fe64cb6885da664f233ea39",
       "value": " 0/1 [00:00&lt;?, ?it/s]"
      }
     },
     "1a1921a3bc5c492a9bdd3871f875deed": {
      "model_module": "@jupyter-widgets/controls",
      "model_module_version": "1.5.0",
      "model_name": "HTMLModel",
      "state": {
       "layout": "IPY_MODEL_5e37028e8eb943cbb21ee4298af82062",
       "style": "IPY_MODEL_6cfefd7599484cb2abf336a34ba493e3",
       "value": " 1/1 [00:00&lt;00:00,  3.03it/s]"
      }
     },
     "1a3ec6fa842c410d94a4f31fc850f813": {
      "model_module": "@jupyter-widgets/base",
      "model_module_version": "1.2.0",
      "model_name": "LayoutModel",
      "state": {}
     },
     "1a9cc1456e3240b292a7fe833e091eae": {
      "model_module": "@jupyter-widgets/base",
      "model_module_version": "1.2.0",
      "model_name": "LayoutModel",
      "state": {}
     },
     "1b05436748eb44e8bcf2d16cf830d669": {
      "model_module": "@jupyter-widgets/controls",
      "model_module_version": "1.5.0",
      "model_name": "HTMLModel",
      "state": {
       "layout": "IPY_MODEL_2ab3e00dbd654e7fbb1da2363c2f0edf",
       "style": "IPY_MODEL_19e4ae55e2be4530aefdbacf42065672",
       "value": "100%"
      }
     },
     "1bc4a0997bb94918b966f2ea3f28d5f3": {
      "model_module": "@jupyter-widgets/base",
      "model_module_version": "1.2.0",
      "model_name": "LayoutModel",
      "state": {}
     },
     "1d6561a310cd4538af6813cb1f05da38": {
      "model_module": "@jupyter-widgets/controls",
      "model_module_version": "1.5.0",
      "model_name": "DescriptionStyleModel",
      "state": {
       "description_width": ""
      }
     },
     "1d6ddf86a9ce4607b84fee44149429cb": {
      "model_module": "@jupyter-widgets/controls",
      "model_module_version": "1.5.0",
      "model_name": "HTMLModel",
      "state": {
       "layout": "IPY_MODEL_35c63b5333fc4f2b835857b405ad42fb",
       "style": "IPY_MODEL_10e5611899634944ab524abc8f91c48f",
       "value": " 0/2 [00:00&lt;?, ?it/s]"
      }
     },
     "1e22ff6b966249e1bc8de6a85b570822": {
      "model_module": "@jupyter-widgets/controls",
      "model_module_version": "1.5.0",
      "model_name": "HTMLModel",
      "state": {
       "layout": "IPY_MODEL_d020c3bdf9784ae7b10c6822a16941d0",
       "style": "IPY_MODEL_40fb806f3f8d4605bcef604d98f97b38",
       "value": " 2/2 [05:39&lt;00:00, 197.87s/it]"
      }
     },
     "1ebbd9b897f74e27821215e3aa3f6e1a": {
      "model_module": "@jupyter-widgets/base",
      "model_module_version": "1.2.0",
      "model_name": "LayoutModel",
      "state": {}
     },
     "2169f243bb97437d90076b4315ffdf72": {
      "model_module": "@jupyter-widgets/controls",
      "model_module_version": "1.5.0",
      "model_name": "DescriptionStyleModel",
      "state": {
       "description_width": ""
      }
     },
     "22578ae075be430b8ee242d9969eaf44": {
      "model_module": "@jupyter-widgets/controls",
      "model_module_version": "1.5.0",
      "model_name": "HTMLModel",
      "state": {
       "layout": "IPY_MODEL_c33d9155458149e6960d3016eac245f4",
       "style": "IPY_MODEL_4864851141fd4fd38489c44549a72228",
       "value": "  0%"
      }
     },
     "23afeab8033c425988dd3949966e3493": {
      "model_module": "@jupyter-widgets/base",
      "model_module_version": "1.2.0",
      "model_name": "LayoutModel",
      "state": {}
     },
     "248f60750dd94f5fbd417bdd303b4345": {
      "model_module": "@jupyter-widgets/base",
      "model_module_version": "1.2.0",
      "model_name": "LayoutModel",
      "state": {}
     },
     "24eac5b095cf48539cd0b13094c45eac": {
      "model_module": "@jupyter-widgets/controls",
      "model_module_version": "1.5.0",
      "model_name": "DescriptionStyleModel",
      "state": {
       "description_width": ""
      }
     },
     "2509d3ffafa847f1a7f920d369dcf2bc": {
      "model_module": "@jupyter-widgets/controls",
      "model_module_version": "1.5.0",
      "model_name": "HBoxModel",
      "state": {
       "children": [
        "IPY_MODEL_a3ec1f492e6248948c33e5f72647f6bb",
        "IPY_MODEL_38e34d2d93314ab39203759d8a13e6c6",
        "IPY_MODEL_33cab44ca78c45a0a96d1ebbc4a79667"
       ],
       "layout": "IPY_MODEL_a5102ff8330c4b0dae37d9cf6959c56d"
      }
     },
     "25aacfd9c0b549878553db3e322cdb65": {
      "model_module": "@jupyter-widgets/controls",
      "model_module_version": "1.5.0",
      "model_name": "FloatProgressModel",
      "state": {
       "bar_style": "danger",
       "layout": "IPY_MODEL_5a3ebd4043bb48fb865579510f5cec91",
       "max": 2,
       "style": "IPY_MODEL_d12729b7896f4a23a4dcc76556a8de61",
       "value": 1
      }
     },
     "25d9cac89ea54ba99ce65d35c2202318": {
      "model_module": "@jupyter-widgets/controls",
      "model_module_version": "1.5.0",
      "model_name": "HTMLModel",
      "state": {
       "layout": "IPY_MODEL_b8a2f3b76fa0463d82fe0da4ca6224e3",
       "style": "IPY_MODEL_cadfc4e3288e4db4b762a10fe298578c",
       "value": "100%"
      }
     },
     "27760cefaa844d6787765cbc1f4e0f72": {
      "model_module": "@jupyter-widgets/base",
      "model_module_version": "1.2.0",
      "model_name": "LayoutModel",
      "state": {}
     },
     "293d77ba67d04a4796babbb970f4717c": {
      "model_module": "@jupyter-widgets/base",
      "model_module_version": "1.2.0",
      "model_name": "LayoutModel",
      "state": {}
     },
     "2a16eb2dd226488cbe448b4e9d9aee6f": {
      "model_module": "@jupyter-widgets/controls",
      "model_module_version": "1.5.0",
      "model_name": "HTMLModel",
      "state": {
       "layout": "IPY_MODEL_d8da5d93171f4dbd8246cbb29b1ccda9",
       "style": "IPY_MODEL_c93503fc3ca2455ea45e3cc5f6e09e2e",
       "value": " 50%"
      }
     },
     "2a396fa788f54b12a06d0563b1cddbcc": {
      "model_module": "@jupyter-widgets/controls",
      "model_module_version": "1.5.0",
      "model_name": "HTMLModel",
      "state": {
       "layout": "IPY_MODEL_27760cefaa844d6787765cbc1f4e0f72",
       "style": "IPY_MODEL_d97081fb34584e57bd8120f2f4099c3e",
       "value": " 2/2 [02:50&lt;00:00, 99.17s/it]"
      }
     },
     "2a422b37908941949fc8e63be3b74bd1": {
      "model_module": "@jupyter-widgets/base",
      "model_module_version": "1.2.0",
      "model_name": "LayoutModel",
      "state": {}
     },
     "2ab3e00dbd654e7fbb1da2363c2f0edf": {
      "model_module": "@jupyter-widgets/base",
      "model_module_version": "1.2.0",
      "model_name": "LayoutModel",
      "state": {}
     },
     "2cfcde76872b4970a2e1c507d00c25e2": {
      "model_module": "@jupyter-widgets/controls",
      "model_module_version": "1.5.0",
      "model_name": "FloatProgressModel",
      "state": {
       "bar_style": "danger",
       "layout": "IPY_MODEL_ca03981372e54350b9a58d3a23c1bd84",
       "max": 1,
       "style": "IPY_MODEL_8a17436b7d784c3da3cd4da4e9a74e07"
      }
     },
     "2d06985e0cf24dd0af6905e70341e169": {
      "model_module": "@jupyter-widgets/controls",
      "model_module_version": "1.5.0",
      "model_name": "HTMLModel",
      "state": {
       "layout": "IPY_MODEL_16a3ad8b942a40f1b472be012758b1dc",
       "style": "IPY_MODEL_a765c517638a4f07986b75adbbcf0a24",
       "value": "100%"
      }
     },
     "2d6373820a4f46a3806d105263320233": {
      "model_module": "@jupyter-widgets/controls",
      "model_module_version": "1.5.0",
      "model_name": "ProgressStyleModel",
      "state": {
       "description_width": ""
      }
     },
     "2e22c6360a20451f8f20e0eecd7bea3a": {
      "model_module": "@jupyter-widgets/base",
      "model_module_version": "1.2.0",
      "model_name": "LayoutModel",
      "state": {}
     },
     "2e4907d04e424710a4e30014f464f84e": {
      "model_module": "@jupyter-widgets/base",
      "model_module_version": "1.2.0",
      "model_name": "LayoutModel",
      "state": {}
     },
     "2eaf6695a98f489a849e535ad421a758": {
      "model_module": "@jupyter-widgets/controls",
      "model_module_version": "1.5.0",
      "model_name": "HTMLModel",
      "state": {
       "layout": "IPY_MODEL_ea37a97c1599481986118e60a80f268d",
       "style": "IPY_MODEL_8295cc87bebe4fbb8c079749fea28c24",
       "value": " 3/3 [00:05&lt;00:00,  2.31s/it]"
      }
     },
     "2f58df2a2e434ae09b8fb3bc53191cae": {
      "model_module": "@jupyter-widgets/base",
      "model_module_version": "1.2.0",
      "model_name": "LayoutModel",
      "state": {}
     },
     "314e85ab3d654f0097793d24dbd77dd8": {
      "model_module": "@jupyter-widgets/controls",
      "model_module_version": "1.5.0",
      "model_name": "FloatProgressModel",
      "state": {
       "bar_style": "success",
       "layout": "IPY_MODEL_f86a3bea5cee432ea4d2e3291db74e6a",
       "max": 6,
       "style": "IPY_MODEL_4241a3cb60a94564b2d07f437982e470",
       "value": 6
      }
     },
     "31c6ea11e1404d39b9847d5d7a1a4204": {
      "model_module": "@jupyter-widgets/controls",
      "model_module_version": "1.5.0",
      "model_name": "ProgressStyleModel",
      "state": {
       "description_width": ""
      }
     },
     "3246b05f5c4f45648f4e533fa051d79e": {
      "model_module": "@jupyter-widgets/base",
      "model_module_version": "1.2.0",
      "model_name": "LayoutModel",
      "state": {}
     },
     "327345c07eec445fbd9ec63274b79079": {
      "model_module": "@jupyter-widgets/base",
      "model_module_version": "1.2.0",
      "model_name": "LayoutModel",
      "state": {}
     },
     "33cab44ca78c45a0a96d1ebbc4a79667": {
      "model_module": "@jupyter-widgets/controls",
      "model_module_version": "1.5.0",
      "model_name": "HTMLModel",
      "state": {
       "layout": "IPY_MODEL_d1aa00a87db743dfbe7b2f035bd39379",
       "style": "IPY_MODEL_8a6fcda30c344e56a90b57774c375432",
       "value": " 1/1 [00:00&lt;00:00, 12.81it/s]"
      }
     },
     "33e103cf03e9478c8e4174c20df412a1": {
      "model_module": "@jupyter-widgets/controls",
      "model_module_version": "1.5.0",
      "model_name": "DescriptionStyleModel",
      "state": {
       "description_width": ""
      }
     },
     "342b887f96114fd69968ea25e6ff4c0d": {
      "model_module": "@jupyter-widgets/controls",
      "model_module_version": "1.5.0",
      "model_name": "DescriptionStyleModel",
      "state": {
       "description_width": ""
      }
     },
     "34fffc8bc96747c2a1ae3cf6a1a9f700": {
      "model_module": "@jupyter-widgets/controls",
      "model_module_version": "1.5.0",
      "model_name": "ProgressStyleModel",
      "state": {
       "description_width": ""
      }
     },
     "35c63b5333fc4f2b835857b405ad42fb": {
      "model_module": "@jupyter-widgets/base",
      "model_module_version": "1.2.0",
      "model_name": "LayoutModel",
      "state": {}
     },
     "35cc5494a318429b9897980469d300e5": {
      "model_module": "@jupyter-widgets/controls",
      "model_module_version": "1.5.0",
      "model_name": "DescriptionStyleModel",
      "state": {
       "description_width": ""
      }
     },
     "36e4716e9ea041a780d0dbe161e57103": {
      "model_module": "@jupyter-widgets/controls",
      "model_module_version": "1.5.0",
      "model_name": "DescriptionStyleModel",
      "state": {
       "description_width": ""
      }
     },
     "38e34d2d93314ab39203759d8a13e6c6": {
      "model_module": "@jupyter-widgets/controls",
      "model_module_version": "1.5.0",
      "model_name": "FloatProgressModel",
      "state": {
       "bar_style": "success",
       "layout": "IPY_MODEL_04bb37f0c7d94f639255b5ca62014284",
       "max": 1,
       "style": "IPY_MODEL_31c6ea11e1404d39b9847d5d7a1a4204",
       "value": 1
      }
     },
     "3a1a8fd70c2845b78a92b3ab20cc2728": {
      "model_module": "@jupyter-widgets/base",
      "model_module_version": "1.2.0",
      "model_name": "LayoutModel",
      "state": {}
     },
     "3a3d0a07a3764daa945c1c21c1d63d07": {
      "model_module": "@jupyter-widgets/base",
      "model_module_version": "1.2.0",
      "model_name": "LayoutModel",
      "state": {}
     },
     "3ac018e7fc3b4f4089e69535dc5bc2c9": {
      "model_module": "@jupyter-widgets/controls",
      "model_module_version": "1.5.0",
      "model_name": "FloatProgressModel",
      "state": {
       "bar_style": "danger",
       "layout": "IPY_MODEL_3cdec3f9bb184fa08022a4e9400a0d27",
       "max": 2,
       "style": "IPY_MODEL_c20a7b20a4454ffcafddcf4007acfe53"
      }
     },
     "3bc524735d54493b82132441296fa579": {
      "model_module": "@jupyter-widgets/controls",
      "model_module_version": "1.5.0",
      "model_name": "HTMLModel",
      "state": {
       "layout": "IPY_MODEL_2e4907d04e424710a4e30014f464f84e",
       "style": "IPY_MODEL_94ccd12a0d0d4819843ca70db9ec5b11",
       "value": "100%"
      }
     },
     "3bf139ad79984a658de8907b23723b69": {
      "model_module": "@jupyter-widgets/base",
      "model_module_version": "1.2.0",
      "model_name": "LayoutModel",
      "state": {}
     },
     "3c57fdf6c1604a36aa1b76a2366baf6c": {
      "model_module": "@jupyter-widgets/controls",
      "model_module_version": "1.5.0",
      "model_name": "HTMLModel",
      "state": {
       "layout": "IPY_MODEL_ae7ee03d36de4dadaa069d63ed96b9ec",
       "style": "IPY_MODEL_b9b2b17ded014fdc9b65781fe35393b0",
       "value": " 50%"
      }
     },
     "3c662d7f4af04085a3ac7bafebd7d1d3": {
      "model_module": "@jupyter-widgets/controls",
      "model_module_version": "1.5.0",
      "model_name": "DescriptionStyleModel",
      "state": {
       "description_width": ""
      }
     },
     "3cdec3f9bb184fa08022a4e9400a0d27": {
      "model_module": "@jupyter-widgets/base",
      "model_module_version": "1.2.0",
      "model_name": "LayoutModel",
      "state": {}
     },
     "3d548567f0bb4f39ad6ac003891d34c0": {
      "model_module": "@jupyter-widgets/controls",
      "model_module_version": "1.5.0",
      "model_name": "HBoxModel",
      "state": {
       "children": [
        "IPY_MODEL_664dee24dc5643d29563df4c880ce809",
        "IPY_MODEL_519923f013a248508755fd2c87bce952",
        "IPY_MODEL_1e22ff6b966249e1bc8de6a85b570822"
       ],
       "layout": "IPY_MODEL_327345c07eec445fbd9ec63274b79079"
      }
     },
     "4079b283b5bc4a3391d064a93af79c5a": {
      "model_module": "@jupyter-widgets/base",
      "model_module_version": "1.2.0",
      "model_name": "LayoutModel",
      "state": {}
     },
     "4091697e621c4d7d94fde9deae6d9240": {
      "model_module": "@jupyter-widgets/controls",
      "model_module_version": "1.5.0",
      "model_name": "HBoxModel",
      "state": {
       "children": [
        "IPY_MODEL_af16315ded1a4f40b0b32abd9324d50f",
        "IPY_MODEL_d0a7093a843c4dacad813906754db45c",
        "IPY_MODEL_cb4b04a4dde94351874be9b372195798"
       ],
       "layout": "IPY_MODEL_4e9ec8209f5d45b889c0fd5ed0b85071"
      }
     },
     "40fb806f3f8d4605bcef604d98f97b38": {
      "model_module": "@jupyter-widgets/controls",
      "model_module_version": "1.5.0",
      "model_name": "DescriptionStyleModel",
      "state": {
       "description_width": ""
      }
     },
     "41b89eb53eac4656ab233b2c583d5f68": {
      "model_module": "@jupyter-widgets/controls",
      "model_module_version": "1.5.0",
      "model_name": "DescriptionStyleModel",
      "state": {
       "description_width": ""
      }
     },
     "4231bd9e9ac541c5a196259b1840f7c2": {
      "model_module": "@jupyter-widgets/controls",
      "model_module_version": "1.5.0",
      "model_name": "FloatProgressModel",
      "state": {
       "bar_style": "success",
       "layout": "IPY_MODEL_e3844b030fa648dd954c941cf1faa879",
       "max": 2,
       "style": "IPY_MODEL_8216b5b2561a4b97bbcd4757d9ef6b84",
       "value": 2
      }
     },
     "4241a3cb60a94564b2d07f437982e470": {
      "model_module": "@jupyter-widgets/controls",
      "model_module_version": "1.5.0",
      "model_name": "ProgressStyleModel",
      "state": {
       "description_width": ""
      }
     },
     "43bd8301de7c4d7db8b60a7b5608a89e": {
      "model_module": "@jupyter-widgets/base",
      "model_module_version": "1.2.0",
      "model_name": "LayoutModel",
      "state": {}
     },
     "45fe7cbea2634da184fbfa87a77f6abb": {
      "model_module": "@jupyter-widgets/controls",
      "model_module_version": "1.5.0",
      "model_name": "ProgressStyleModel",
      "state": {
       "description_width": ""
      }
     },
     "4864851141fd4fd38489c44549a72228": {
      "model_module": "@jupyter-widgets/controls",
      "model_module_version": "1.5.0",
      "model_name": "DescriptionStyleModel",
      "state": {
       "description_width": ""
      }
     },
     "493e76030c2b44b2a1b697fb14921ea2": {
      "model_module": "@jupyter-widgets/base",
      "model_module_version": "1.2.0",
      "model_name": "LayoutModel",
      "state": {}
     },
     "4a2164696d354722aced652656133fef": {
      "model_module": "@jupyter-widgets/controls",
      "model_module_version": "1.5.0",
      "model_name": "DescriptionStyleModel",
      "state": {
       "description_width": ""
      }
     },
     "4bbac577f1354491becdc872c69d1e4c": {
      "model_module": "@jupyter-widgets/base",
      "model_module_version": "1.2.0",
      "model_name": "LayoutModel",
      "state": {}
     },
     "4be7e3c23ed24123a4a38b9c3bd31177": {
      "model_module": "@jupyter-widgets/controls",
      "model_module_version": "1.5.0",
      "model_name": "ProgressStyleModel",
      "state": {
       "description_width": ""
      }
     },
     "4c3aaaa00a844168ad88e49981d9d030": {
      "model_module": "@jupyter-widgets/controls",
      "model_module_version": "1.5.0",
      "model_name": "HTMLModel",
      "state": {
       "layout": "IPY_MODEL_e0582c1fb3c14d23876937bb8f2060cc",
       "style": "IPY_MODEL_7481db3a5ea540acbe8f0a3b28772dd3",
       "value": " 1/2 [00:01&lt;00:01,  1.06s/it]"
      }
     },
     "4e9ec8209f5d45b889c0fd5ed0b85071": {
      "model_module": "@jupyter-widgets/base",
      "model_module_version": "1.2.0",
      "model_name": "LayoutModel",
      "state": {}
     },
     "4eb03a00241942b38031de000dce98c2": {
      "model_module": "@jupyter-widgets/base",
      "model_module_version": "1.2.0",
      "model_name": "LayoutModel",
      "state": {}
     },
     "519923f013a248508755fd2c87bce952": {
      "model_module": "@jupyter-widgets/controls",
      "model_module_version": "1.5.0",
      "model_name": "FloatProgressModel",
      "state": {
       "bar_style": "success",
       "layout": "IPY_MODEL_ec6fb5c6ce254c3cb70d66ae4243427e",
       "max": 2,
       "style": "IPY_MODEL_9ee004eb24c844e1bc3c7052fa267ec8",
       "value": 2
      }
     },
     "52c06385c22e48f3943ab8ce25e6ffb0": {
      "model_module": "@jupyter-widgets/controls",
      "model_module_version": "1.5.0",
      "model_name": "DescriptionStyleModel",
      "state": {
       "description_width": ""
      }
     },
     "52d8c3f754dc40efafc7a58c386db242": {
      "model_module": "@jupyter-widgets/controls",
      "model_module_version": "1.5.0",
      "model_name": "HTMLModel",
      "state": {
       "layout": "IPY_MODEL_8f4cf18e60124c1ab19cf7911c20ee01",
       "style": "IPY_MODEL_da5f8c02a9aa4d99af12fa513eabcf3b",
       "value": "100%"
      }
     },
     "5441a963061e4726af1e57d889b01d1c": {
      "model_module": "@jupyter-widgets/base",
      "model_module_version": "1.2.0",
      "model_name": "LayoutModel",
      "state": {}
     },
     "5618a5a1b54847cd81f129436d95ac2b": {
      "model_module": "@jupyter-widgets/controls",
      "model_module_version": "1.5.0",
      "model_name": "HTMLModel",
      "state": {
       "layout": "IPY_MODEL_c863f747692843ddaf174fb0a2741cf4",
       "style": "IPY_MODEL_7c0609cdbbc74e12b42ce526c9ef14c0",
       "value": " 50%"
      }
     },
     "57331e6bfe184aa4895244f518432090": {
      "model_module": "@jupyter-widgets/controls",
      "model_module_version": "1.5.0",
      "model_name": "HTMLModel",
      "state": {
       "layout": "IPY_MODEL_b22fbd0da33144749f2150738079a101",
       "style": "IPY_MODEL_24eac5b095cf48539cd0b13094c45eac",
       "value": " 1/2 [00:00&lt;00:00,  1.96it/s]"
      }
     },
     "575aa54e05744f3085e1522d0204026d": {
      "model_module": "@jupyter-widgets/controls",
      "model_module_version": "1.5.0",
      "model_name": "HTMLModel",
      "state": {
       "layout": "IPY_MODEL_7879a06c287845d5bbfa994c83f17986",
       "style": "IPY_MODEL_daa05035a33f43a5b76e907529e0a28b",
       "value": "100%"
      }
     },
     "57735f918eea429484bc25ccfbce0d6f": {
      "model_module": "@jupyter-widgets/controls",
      "model_module_version": "1.5.0",
      "model_name": "DescriptionStyleModel",
      "state": {
       "description_width": ""
      }
     },
     "579c482af79e4407a652a30de540c845": {
      "model_module": "@jupyter-widgets/base",
      "model_module_version": "1.2.0",
      "model_name": "LayoutModel",
      "state": {}
     },
     "589d6567a23842b1b7389d957088d79b": {
      "model_module": "@jupyter-widgets/controls",
      "model_module_version": "1.5.0",
      "model_name": "ProgressStyleModel",
      "state": {
       "description_width": ""
      }
     },
     "58cc469e49dc43a6a4da47c148411529": {
      "model_module": "@jupyter-widgets/controls",
      "model_module_version": "1.5.0",
      "model_name": "HBoxModel",
      "state": {
       "children": [
        "IPY_MODEL_2a16eb2dd226488cbe448b4e9d9aee6f",
        "IPY_MODEL_bda63418489d4e6fad25bedc0c9516a5",
        "IPY_MODEL_57331e6bfe184aa4895244f518432090"
       ],
       "layout": "IPY_MODEL_2a422b37908941949fc8e63be3b74bd1"
      }
     },
     "5a194782729744dc86e1bbd2ffe74ef9": {
      "model_module": "@jupyter-widgets/controls",
      "model_module_version": "1.5.0",
      "model_name": "FloatProgressModel",
      "state": {
       "bar_style": "success",
       "layout": "IPY_MODEL_6da261d0410b4896bdbce976400b77a0",
       "max": 2,
       "style": "IPY_MODEL_4be7e3c23ed24123a4a38b9c3bd31177",
       "value": 2
      }
     },
     "5a2bdc5ac3344cd697832f1475c3bb08": {
      "model_module": "@jupyter-widgets/controls",
      "model_module_version": "1.5.0",
      "model_name": "HTMLModel",
      "state": {
       "layout": "IPY_MODEL_e9f71f74986b4367bd701911698ce247",
       "style": "IPY_MODEL_41b89eb53eac4656ab233b2c583d5f68",
       "value": " 2/2 [00:02&lt;00:00,  1.35s/it]"
      }
     },
     "5a3ebd4043bb48fb865579510f5cec91": {
      "model_module": "@jupyter-widgets/base",
      "model_module_version": "1.2.0",
      "model_name": "LayoutModel",
      "state": {}
     },
     "5b6fa852fff648a79500f9f026623205": {
      "model_module": "@jupyter-widgets/controls",
      "model_module_version": "1.5.0",
      "model_name": "DescriptionStyleModel",
      "state": {
       "description_width": ""
      }
     },
     "5b967557b5f946a6aa8810252a8c157b": {
      "model_module": "@jupyter-widgets/controls",
      "model_module_version": "1.5.0",
      "model_name": "FloatProgressModel",
      "state": {
       "bar_style": "danger",
       "layout": "IPY_MODEL_c1721918dd74435480f53fbde79f15a7",
       "max": 2,
       "style": "IPY_MODEL_f3e58dbd760448a89206a28bfe7c4514",
       "value": 1
      }
     },
     "5bd184fd866748eb95fe13adc19cc7c4": {
      "model_module": "@jupyter-widgets/controls",
      "model_module_version": "1.5.0",
      "model_name": "HTMLModel",
      "state": {
       "layout": "IPY_MODEL_bda88321d2384be79a0ed05596e55e5c",
       "style": "IPY_MODEL_52c06385c22e48f3943ab8ce25e6ffb0",
       "value": " 3/3 [00:03&lt;00:00,  1.11s/it]"
      }
     },
     "5be9a53730454a7e96ae1a79481e38fb": {
      "model_module": "@jupyter-widgets/controls",
      "model_module_version": "1.5.0",
      "model_name": "HBoxModel",
      "state": {
       "children": [
        "IPY_MODEL_ffa577ec36d447b1ae7165865f0ee3c7",
        "IPY_MODEL_65407119f8e545649c37e0ed1da8a23d",
        "IPY_MODEL_0ce1e5330e2d4139a571920bed5d8a47"
       ],
       "layout": "IPY_MODEL_293d77ba67d04a4796babbb970f4717c"
      }
     },
     "5c39f8e09d7c48f8959f1eb2ba38493d": {
      "model_module": "@jupyter-widgets/controls",
      "model_module_version": "1.5.0",
      "model_name": "DescriptionStyleModel",
      "state": {
       "description_width": ""
      }
     },
     "5c3c8f2d72e84098a4f03385e82e1643": {
      "model_module": "@jupyter-widgets/controls",
      "model_module_version": "1.5.0",
      "model_name": "HTMLModel",
      "state": {
       "layout": "IPY_MODEL_93831160a56646a3b0116d04ae3d1433",
       "style": "IPY_MODEL_190ac010154c43bf9577f8eb9fe5034e",
       "value": " 2/2 [00:19&lt;00:00, 10.57s/it]"
      }
     },
     "5cd1f54d63eb4c34b7ea223a935222a7": {
      "model_module": "@jupyter-widgets/controls",
      "model_module_version": "1.5.0",
      "model_name": "ProgressStyleModel",
      "state": {
       "description_width": ""
      }
     },
     "5d7720bc975c4f8b81530ab8acdb0c27": {
      "model_module": "@jupyter-widgets/controls",
      "model_module_version": "1.5.0",
      "model_name": "HTMLModel",
      "state": {
       "layout": "IPY_MODEL_89ca964cea7246bba0c447ab4db41bee",
       "style": "IPY_MODEL_cae4e771e3d840c09de00ba31faf516c",
       "value": " 1/2 [00:01&lt;00:01,  1.10s/it]"
      }
     },
     "5ddd055ce91f464a85c6a89acd62d0f4": {
      "model_module": "@jupyter-widgets/controls",
      "model_module_version": "1.5.0",
      "model_name": "HTMLModel",
      "state": {
       "layout": "IPY_MODEL_bba76b389dc3421eb91aee01cc188c06",
       "style": "IPY_MODEL_889f83659e8d460890b803f93b3ab69f",
       "value": " 6/6 [00:48&lt;00:00, 11.67s/it]"
      }
     },
     "5e37028e8eb943cbb21ee4298af82062": {
      "model_module": "@jupyter-widgets/base",
      "model_module_version": "1.2.0",
      "model_name": "LayoutModel",
      "state": {}
     },
     "5f3bcff1f0264b32a924a1c66273716f": {
      "model_module": "@jupyter-widgets/base",
      "model_module_version": "1.2.0",
      "model_name": "LayoutModel",
      "state": {}
     },
     "607e7151f8274a03a0481537f8a4c921": {
      "model_module": "@jupyter-widgets/controls",
      "model_module_version": "1.5.0",
      "model_name": "DescriptionStyleModel",
      "state": {
       "description_width": ""
      }
     },
     "647d2f9fe34b4a9c90295289c41bedaa": {
      "model_module": "@jupyter-widgets/base",
      "model_module_version": "1.2.0",
      "model_name": "LayoutModel",
      "state": {}
     },
     "650dca7bd1f140288dbfd8a66d98ac2c": {
      "model_module": "@jupyter-widgets/controls",
      "model_module_version": "1.5.0",
      "model_name": "DescriptionStyleModel",
      "state": {
       "description_width": ""
      }
     },
     "65407119f8e545649c37e0ed1da8a23d": {
      "model_module": "@jupyter-widgets/controls",
      "model_module_version": "1.5.0",
      "model_name": "FloatProgressModel",
      "state": {
       "bar_style": "danger",
       "layout": "IPY_MODEL_493e76030c2b44b2a1b697fb14921ea2",
       "max": 2,
       "style": "IPY_MODEL_589d6567a23842b1b7389d957088d79b",
       "value": 1
      }
     },
     "65aeb5bd981a4f53af67f90efbd50704": {
      "model_module": "@jupyter-widgets/controls",
      "model_module_version": "1.5.0",
      "model_name": "ProgressStyleModel",
      "state": {
       "description_width": ""
      }
     },
     "65fbde5cb7f34cf48da40aa936731be8": {
      "model_module": "@jupyter-widgets/base",
      "model_module_version": "1.2.0",
      "model_name": "LayoutModel",
      "state": {}
     },
     "662a1c2ac0cc4eae8faa9faca8b7e929": {
      "model_module": "@jupyter-widgets/base",
      "model_module_version": "1.2.0",
      "model_name": "LayoutModel",
      "state": {}
     },
     "664dee24dc5643d29563df4c880ce809": {
      "model_module": "@jupyter-widgets/controls",
      "model_module_version": "1.5.0",
      "model_name": "HTMLModel",
      "state": {
       "layout": "IPY_MODEL_3a1a8fd70c2845b78a92b3ab20cc2728",
       "style": "IPY_MODEL_aacfd191c9474c0b8831441e59a87559",
       "value": "100%"
      }
     },
     "66adfbc024194b79afc1772e7fba97fe": {
      "model_module": "@jupyter-widgets/controls",
      "model_module_version": "1.5.0",
      "model_name": "HTMLModel",
      "state": {
       "layout": "IPY_MODEL_65fbde5cb7f34cf48da40aa936731be8",
       "style": "IPY_MODEL_79dc03b808e04496b4ad24944b0c5c6f",
       "value": " 50%"
      }
     },
     "66dd05ef7ea84391b940d7abf4772b85": {
      "model_module": "@jupyter-widgets/base",
      "model_module_version": "1.2.0",
      "model_name": "LayoutModel",
      "state": {}
     },
     "6967bec446ae48f4994e758444a37849": {
      "model_module": "@jupyter-widgets/controls",
      "model_module_version": "1.5.0",
      "model_name": "FloatProgressModel",
      "state": {
       "bar_style": "success",
       "layout": "IPY_MODEL_e636be2305de495291e43a9c327fe1c4",
       "max": 1,
       "style": "IPY_MODEL_8e5ea1790860413db3aefec955a3b970",
       "value": 1
      }
     },
     "6a0e3492bedf4410982e420627cbe7a8": {
      "model_module": "@jupyter-widgets/base",
      "model_module_version": "1.2.0",
      "model_name": "LayoutModel",
      "state": {}
     },
     "6bdff5ad99904f60ae1d287374183677": {
      "model_module": "@jupyter-widgets/controls",
      "model_module_version": "1.5.0",
      "model_name": "FloatProgressModel",
      "state": {
       "bar_style": "danger",
       "layout": "IPY_MODEL_3246b05f5c4f45648f4e533fa051d79e",
       "max": 2,
       "style": "IPY_MODEL_34fffc8bc96747c2a1ae3cf6a1a9f700",
       "value": 1
      }
     },
     "6cfefd7599484cb2abf336a34ba493e3": {
      "model_module": "@jupyter-widgets/controls",
      "model_module_version": "1.5.0",
      "model_name": "DescriptionStyleModel",
      "state": {
       "description_width": ""
      }
     },
     "6da261d0410b4896bdbce976400b77a0": {
      "model_module": "@jupyter-widgets/base",
      "model_module_version": "1.2.0",
      "model_name": "LayoutModel",
      "state": {}
     },
     "6fc4c6db54f54d3ca78db0ec72cb2964": {
      "model_module": "@jupyter-widgets/controls",
      "model_module_version": "1.5.0",
      "model_name": "HBoxModel",
      "state": {
       "children": [
        "IPY_MODEL_a320f6de81ff4d96ab07226ff417d609",
        "IPY_MODEL_f85dafb6a56142168fa7113802a010dc",
        "IPY_MODEL_74a195b289f845f2a7086125619fa397"
       ],
       "layout": "IPY_MODEL_769a382479f242d386d84812cc801b6d"
      }
     },
     "6ff641671c1e4b09aa2efe9469847372": {
      "model_module": "@jupyter-widgets/controls",
      "model_module_version": "1.5.0",
      "model_name": "DescriptionStyleModel",
      "state": {
       "description_width": ""
      }
     },
     "70cfc7a56ffa4350ac5e0dd946d3b138": {
      "model_module": "@jupyter-widgets/controls",
      "model_module_version": "1.5.0",
      "model_name": "HBoxModel",
      "state": {
       "children": [
        "IPY_MODEL_52d8c3f754dc40efafc7a58c386db242",
        "IPY_MODEL_d241e9cb01d94d74ae0ba6cdd43a543d",
        "IPY_MODEL_5bd184fd866748eb95fe13adc19cc7c4"
       ],
       "layout": "IPY_MODEL_9a8e1ee809814ba7a918ea9283c003bc"
      }
     },
     "71148c974c14431695705e8d76bc8e62": {
      "model_module": "@jupyter-widgets/controls",
      "model_module_version": "1.5.0",
      "model_name": "FloatProgressModel",
      "state": {
       "bar_style": "success",
       "layout": "IPY_MODEL_b7db3634b1b0423b8974f4075deb1882",
       "max": 2,
       "style": "IPY_MODEL_45fe7cbea2634da184fbfa87a77f6abb",
       "value": 2
      }
     },
     "74000755f0fe4238b6e28088cc14db29": {
      "model_module": "@jupyter-widgets/controls",
      "model_module_version": "1.5.0",
      "model_name": "FloatProgressModel",
      "state": {
       "bar_style": "success",
       "layout": "IPY_MODEL_0ab88426b8ac471f8691cfce78e48b50",
       "max": 1,
       "style": "IPY_MODEL_7b9763b1f29a4afb8d95963d6cd1f1f9",
       "value": 1
      }
     },
     "7432aace9c9c40b88f307d1622153351": {
      "model_module": "@jupyter-widgets/base",
      "model_module_version": "1.2.0",
      "model_name": "LayoutModel",
      "state": {}
     },
     "7481db3a5ea540acbe8f0a3b28772dd3": {
      "model_module": "@jupyter-widgets/controls",
      "model_module_version": "1.5.0",
      "model_name": "DescriptionStyleModel",
      "state": {
       "description_width": ""
      }
     },
     "74a195b289f845f2a7086125619fa397": {
      "model_module": "@jupyter-widgets/controls",
      "model_module_version": "1.5.0",
      "model_name": "HTMLModel",
      "state": {
       "layout": "IPY_MODEL_5f3bcff1f0264b32a924a1c66273716f",
       "style": "IPY_MODEL_342b887f96114fd69968ea25e6ff4c0d",
       "value": " 6/6 [00:28&lt;00:00,  5.85s/it]"
      }
     },
     "74f3cf248ef343c8afc6e216b598204d": {
      "model_module": "@jupyter-widgets/controls",
      "model_module_version": "1.5.0",
      "model_name": "DescriptionStyleModel",
      "state": {
       "description_width": ""
      }
     },
     "769a382479f242d386d84812cc801b6d": {
      "model_module": "@jupyter-widgets/base",
      "model_module_version": "1.2.0",
      "model_name": "LayoutModel",
      "state": {}
     },
     "76d83d02ae354faf828674a101620740": {
      "model_module": "@jupyter-widgets/controls",
      "model_module_version": "1.5.0",
      "model_name": "FloatProgressModel",
      "state": {
       "bar_style": "success",
       "layout": "IPY_MODEL_a3f633e1ef934efeb713b7e8358f4163",
       "max": 2,
       "style": "IPY_MODEL_fe8b47d6fc9a4f7aa40141910b343a86",
       "value": 2
      }
     },
     "780283186f164ed58b65643e4f99541b": {
      "model_module": "@jupyter-widgets/base",
      "model_module_version": "1.2.0",
      "model_name": "LayoutModel",
      "state": {}
     },
     "7879a06c287845d5bbfa994c83f17986": {
      "model_module": "@jupyter-widgets/base",
      "model_module_version": "1.2.0",
      "model_name": "LayoutModel",
      "state": {}
     },
     "7909d4a7700842e6842db1a2aa091b8c": {
      "model_module": "@jupyter-widgets/base",
      "model_module_version": "1.2.0",
      "model_name": "LayoutModel",
      "state": {}
     },
     "791c559080024a86b7b77362fe5f3b81": {
      "model_module": "@jupyter-widgets/controls",
      "model_module_version": "1.5.0",
      "model_name": "DescriptionStyleModel",
      "state": {
       "description_width": ""
      }
     },
     "79dc03b808e04496b4ad24944b0c5c6f": {
      "model_module": "@jupyter-widgets/controls",
      "model_module_version": "1.5.0",
      "model_name": "DescriptionStyleModel",
      "state": {
       "description_width": ""
      }
     },
     "7b9763b1f29a4afb8d95963d6cd1f1f9": {
      "model_module": "@jupyter-widgets/controls",
      "model_module_version": "1.5.0",
      "model_name": "ProgressStyleModel",
      "state": {
       "description_width": ""
      }
     },
     "7c0609cdbbc74e12b42ce526c9ef14c0": {
      "model_module": "@jupyter-widgets/controls",
      "model_module_version": "1.5.0",
      "model_name": "DescriptionStyleModel",
      "state": {
       "description_width": ""
      }
     },
     "7c193c9ed0f44a2bad67ef6e44cd1178": {
      "model_module": "@jupyter-widgets/controls",
      "model_module_version": "1.5.0",
      "model_name": "DescriptionStyleModel",
      "state": {
       "description_width": ""
      }
     },
     "8216b5b2561a4b97bbcd4757d9ef6b84": {
      "model_module": "@jupyter-widgets/controls",
      "model_module_version": "1.5.0",
      "model_name": "ProgressStyleModel",
      "state": {
       "description_width": ""
      }
     },
     "8295cc87bebe4fbb8c079749fea28c24": {
      "model_module": "@jupyter-widgets/controls",
      "model_module_version": "1.5.0",
      "model_name": "DescriptionStyleModel",
      "state": {
       "description_width": ""
      }
     },
     "834d24d8210245d99a7d5048950d86f2": {
      "model_module": "@jupyter-widgets/controls",
      "model_module_version": "1.5.0",
      "model_name": "ProgressStyleModel",
      "state": {
       "description_width": ""
      }
     },
     "840fb0e1679b4973a8ace17f2594adc8": {
      "model_module": "@jupyter-widgets/base",
      "model_module_version": "1.2.0",
      "model_name": "LayoutModel",
      "state": {}
     },
     "843d2190862c458a83299bc42cf449e7": {
      "model_module": "@jupyter-widgets/controls",
      "model_module_version": "1.5.0",
      "model_name": "FloatProgressModel",
      "state": {
       "bar_style": "success",
       "layout": "IPY_MODEL_a677b23815134308b6bf87883862c85b",
       "max": 2,
       "style": "IPY_MODEL_01071b0264b9481c8cc661422676b9b3",
       "value": 2
      }
     },
     "889f83659e8d460890b803f93b3ab69f": {
      "model_module": "@jupyter-widgets/controls",
      "model_module_version": "1.5.0",
      "model_name": "DescriptionStyleModel",
      "state": {
       "description_width": ""
      }
     },
     "89ca964cea7246bba0c447ab4db41bee": {
      "model_module": "@jupyter-widgets/base",
      "model_module_version": "1.2.0",
      "model_name": "LayoutModel",
      "state": {}
     },
     "8a17436b7d784c3da3cd4da4e9a74e07": {
      "model_module": "@jupyter-widgets/controls",
      "model_module_version": "1.5.0",
      "model_name": "ProgressStyleModel",
      "state": {
       "description_width": ""
      }
     },
     "8a6fcda30c344e56a90b57774c375432": {
      "model_module": "@jupyter-widgets/controls",
      "model_module_version": "1.5.0",
      "model_name": "DescriptionStyleModel",
      "state": {
       "description_width": ""
      }
     },
     "8a8c3b60afb8465bae57d289425bb9a6": {
      "model_module": "@jupyter-widgets/controls",
      "model_module_version": "1.5.0",
      "model_name": "DescriptionStyleModel",
      "state": {
       "description_width": ""
      }
     },
     "8c4e39390c244666960bbb35de3abdc2": {
      "model_module": "@jupyter-widgets/base",
      "model_module_version": "1.2.0",
      "model_name": "LayoutModel",
      "state": {}
     },
     "8c7c9e2362c04d16ae1a906e622cb9ff": {
      "model_module": "@jupyter-widgets/controls",
      "model_module_version": "1.5.0",
      "model_name": "HBoxModel",
      "state": {
       "children": [
        "IPY_MODEL_ea537516d5754be08e064bfcc23e238e",
        "IPY_MODEL_5a194782729744dc86e1bbd2ffe74ef9",
        "IPY_MODEL_cd2a8f316260478d8b44f587fd6ed7ab"
       ],
       "layout": "IPY_MODEL_eca94c015fd54631853b5c6d12c2ebd0"
      }
     },
     "8c9336c78c514eb6b7fb3a38db1a0d98": {
      "model_module": "@jupyter-widgets/controls",
      "model_module_version": "1.5.0",
      "model_name": "DescriptionStyleModel",
      "state": {
       "description_width": ""
      }
     },
     "8dd635cd05194d7ca8607bb6c31ce0ff": {
      "model_module": "@jupyter-widgets/controls",
      "model_module_version": "1.5.0",
      "model_name": "DescriptionStyleModel",
      "state": {
       "description_width": ""
      }
     },
     "8e5ea1790860413db3aefec955a3b970": {
      "model_module": "@jupyter-widgets/controls",
      "model_module_version": "1.5.0",
      "model_name": "ProgressStyleModel",
      "state": {
       "description_width": ""
      }
     },
     "8e8dfc49b501481ab98776aa3faec14a": {
      "model_module": "@jupyter-widgets/controls",
      "model_module_version": "1.5.0",
      "model_name": "HTMLModel",
      "state": {
       "layout": "IPY_MODEL_d836859f35344a3b9c37b6afaade6e31",
       "style": "IPY_MODEL_2169f243bb97437d90076b4315ffdf72",
       "value": "100%"
      }
     },
     "8ecf60e4818e404b8b54542978ffe276": {
      "model_module": "@jupyter-widgets/controls",
      "model_module_version": "1.5.0",
      "model_name": "DescriptionStyleModel",
      "state": {
       "description_width": ""
      }
     },
     "8f4cf18e60124c1ab19cf7911c20ee01": {
      "model_module": "@jupyter-widgets/base",
      "model_module_version": "1.2.0",
      "model_name": "LayoutModel",
      "state": {}
     },
     "8f900fb3e4264594b9d8a1bea67dbcbb": {
      "model_module": "@jupyter-widgets/controls",
      "model_module_version": "1.5.0",
      "model_name": "FloatProgressModel",
      "state": {
       "bar_style": "danger",
       "layout": "IPY_MODEL_2f58df2a2e434ae09b8fb3bc53191cae",
       "max": 2,
       "style": "IPY_MODEL_dc787dd925de4cdd98c37d8ccaa98be1",
       "value": 1
      }
     },
     "9001316796c94177a107aab1cf48e58c": {
      "model_module": "@jupyter-widgets/controls",
      "model_module_version": "1.5.0",
      "model_name": "ProgressStyleModel",
      "state": {
       "description_width": ""
      }
     },
     "909da3abfb67431eb03cca84bde41487": {
      "model_module": "@jupyter-widgets/controls",
      "model_module_version": "1.5.0",
      "model_name": "HTMLModel",
      "state": {
       "layout": "IPY_MODEL_a9d8a893352e4fe7ab20c1e37737c1a6",
       "style": "IPY_MODEL_9738d0ab5607474a999a6e2e27d6121d",
       "value": "100%"
      }
     },
     "912c15924c564bb8a77d48701264fa58": {
      "model_module": "@jupyter-widgets/controls",
      "model_module_version": "1.5.0",
      "model_name": "DescriptionStyleModel",
      "state": {
       "description_width": ""
      }
     },
     "92d9319aa08a41d29179a79cbc5d2079": {
      "model_module": "@jupyter-widgets/controls",
      "model_module_version": "1.5.0",
      "model_name": "DescriptionStyleModel",
      "state": {
       "description_width": ""
      }
     },
     "93831160a56646a3b0116d04ae3d1433": {
      "model_module": "@jupyter-widgets/base",
      "model_module_version": "1.2.0",
      "model_name": "LayoutModel",
      "state": {}
     },
     "93d9eecef7664e04a41e08a43d872928": {
      "model_module": "@jupyter-widgets/base",
      "model_module_version": "1.2.0",
      "model_name": "LayoutModel",
      "state": {}
     },
     "94ccd12a0d0d4819843ca70db9ec5b11": {
      "model_module": "@jupyter-widgets/controls",
      "model_module_version": "1.5.0",
      "model_name": "DescriptionStyleModel",
      "state": {
       "description_width": ""
      }
     },
     "95046ced9400482b825c7ea9d1bbe36b": {
      "model_module": "@jupyter-widgets/base",
      "model_module_version": "1.2.0",
      "model_name": "LayoutModel",
      "state": {}
     },
     "955e726acc4945ca9c5a58d45b432407": {
      "model_module": "@jupyter-widgets/controls",
      "model_module_version": "1.5.0",
      "model_name": "HBoxModel",
      "state": {
       "children": [
        "IPY_MODEL_22578ae075be430b8ee242d9969eaf44",
        "IPY_MODEL_2cfcde76872b4970a2e1c507d00c25e2",
        "IPY_MODEL_1a0b0c87dd5a4f9ab1011bd15cc60a8c"
       ],
       "layout": "IPY_MODEL_248f60750dd94f5fbd417bdd303b4345"
      }
     },
     "97175809fb384b6ba9f9e2e1ff8546fa": {
      "model_module": "@jupyter-widgets/base",
      "model_module_version": "1.2.0",
      "model_name": "LayoutModel",
      "state": {}
     },
     "9738d0ab5607474a999a6e2e27d6121d": {
      "model_module": "@jupyter-widgets/controls",
      "model_module_version": "1.5.0",
      "model_name": "DescriptionStyleModel",
      "state": {
       "description_width": ""
      }
     },
     "9778919e37c643bf8eda81c17cb948a4": {
      "model_module": "@jupyter-widgets/controls",
      "model_module_version": "1.5.0",
      "model_name": "HTMLModel",
      "state": {
       "layout": "IPY_MODEL_4079b283b5bc4a3391d064a93af79c5a",
       "style": "IPY_MODEL_791c559080024a86b7b77362fe5f3b81",
       "value": " 1/2 [00:00&lt;00:00,  2.32it/s]"
      }
     },
     "98226df3ad244855a831bbbf6a9c4de6": {
      "model_module": "@jupyter-widgets/controls",
      "model_module_version": "1.5.0",
      "model_name": "ProgressStyleModel",
      "state": {
       "description_width": ""
      }
     },
     "98257c535f7d4eefa48168d16b5cd056": {
      "model_module": "@jupyter-widgets/base",
      "model_module_version": "1.2.0",
      "model_name": "LayoutModel",
      "state": {}
     },
     "99c937c459c84edbb809ec8a4e7fef9e": {
      "model_module": "@jupyter-widgets/controls",
      "model_module_version": "1.5.0",
      "model_name": "HTMLModel",
      "state": {
       "layout": "IPY_MODEL_efda77173e104bc89ccb0b420f7ebd46",
       "style": "IPY_MODEL_607e7151f8274a03a0481537f8a4c921",
       "value": " 1/2 [00:01&lt;00:00,  1.20it/s]"
      }
     },
     "9a8e1ee809814ba7a918ea9283c003bc": {
      "model_module": "@jupyter-widgets/base",
      "model_module_version": "1.2.0",
      "model_name": "LayoutModel",
      "state": {}
     },
     "9b34f20f174348f694bb4b1706db80a5": {
      "model_module": "@jupyter-widgets/controls",
      "model_module_version": "1.5.0",
      "model_name": "FloatProgressModel",
      "state": {
       "bar_style": "danger",
       "layout": "IPY_MODEL_3a3d0a07a3764daa945c1c21c1d63d07",
       "max": 2,
       "style": "IPY_MODEL_d01fe8df2a0f4d54a407d0ff2acfd810",
       "value": 1
      }
     },
     "9c082ab458ae454589b11452f4a12dcd": {
      "model_module": "@jupyter-widgets/base",
      "model_module_version": "1.2.0",
      "model_name": "LayoutModel",
      "state": {}
     },
     "9c35007826844afc8142991e9fd1b743": {
      "model_module": "@jupyter-widgets/controls",
      "model_module_version": "1.5.0",
      "model_name": "HBoxModel",
      "state": {
       "children": [
        "IPY_MODEL_5618a5a1b54847cd81f129436d95ac2b",
        "IPY_MODEL_25aacfd9c0b549878553db3e322cdb65",
        "IPY_MODEL_99c937c459c84edbb809ec8a4e7fef9e"
       ],
       "layout": "IPY_MODEL_4eb03a00241942b38031de000dce98c2"
      }
     },
     "9c78a9658df941459f3c8e0a5ffdbb16": {
      "model_module": "@jupyter-widgets/base",
      "model_module_version": "1.2.0",
      "model_name": "LayoutModel",
      "state": {}
     },
     "9ee004eb24c844e1bc3c7052fa267ec8": {
      "model_module": "@jupyter-widgets/controls",
      "model_module_version": "1.5.0",
      "model_name": "ProgressStyleModel",
      "state": {
       "description_width": ""
      }
     },
     "9f3f9d115d914132af37ec8a3aef1a18": {
      "model_module": "@jupyter-widgets/controls",
      "model_module_version": "1.5.0",
      "model_name": "HBoxModel",
      "state": {
       "children": [
        "IPY_MODEL_8e8dfc49b501481ab98776aa3faec14a",
        "IPY_MODEL_4231bd9e9ac541c5a196259b1840f7c2",
        "IPY_MODEL_0b9d2ec72f9d4fdbb7b907a45a6d1512"
       ],
       "layout": "IPY_MODEL_780283186f164ed58b65643e4f99541b"
      }
     },
     "9f54b92ac1534f489cdd1976651b7f43": {
      "model_module": "@jupyter-widgets/base",
      "model_module_version": "1.2.0",
      "model_name": "LayoutModel",
      "state": {}
     },
     "9fdfc9c89fa14978abe4b3913e0cb7c9": {
      "model_module": "@jupyter-widgets/base",
      "model_module_version": "1.2.0",
      "model_name": "LayoutModel",
      "state": {}
     },
     "a069f4dbcb92475e92e8eab00a8d25b9": {
      "model_module": "@jupyter-widgets/base",
      "model_module_version": "1.2.0",
      "model_name": "LayoutModel",
      "state": {}
     },
     "a26ff6b3453446928e114d4e72c8c622": {
      "model_module": "@jupyter-widgets/controls",
      "model_module_version": "1.5.0",
      "model_name": "FloatProgressModel",
      "state": {
       "bar_style": "success",
       "layout": "IPY_MODEL_f712616858b0456590fd18678726df2e",
       "max": 2,
       "style": "IPY_MODEL_2d6373820a4f46a3806d105263320233",
       "value": 2
      }
     },
     "a308a7d3cfe344d5bfa829bc165ca3a7": {
      "model_module": "@jupyter-widgets/controls",
      "model_module_version": "1.5.0",
      "model_name": "HTMLModel",
      "state": {
       "layout": "IPY_MODEL_c461c503801e4909bbd9f27989d08214",
       "style": "IPY_MODEL_0a3f8687371f4becade815abd288749e",
       "value": " 1/1 [00:00&lt;00:00, 12.10it/s]"
      }
     },
     "a320f6de81ff4d96ab07226ff417d609": {
      "model_module": "@jupyter-widgets/controls",
      "model_module_version": "1.5.0",
      "model_name": "HTMLModel",
      "state": {
       "layout": "IPY_MODEL_9f54b92ac1534f489cdd1976651b7f43",
       "style": "IPY_MODEL_8c9336c78c514eb6b7fb3a38db1a0d98",
       "value": "100%"
      }
     },
     "a3ec1f492e6248948c33e5f72647f6bb": {
      "model_module": "@jupyter-widgets/controls",
      "model_module_version": "1.5.0",
      "model_name": "HTMLModel",
      "state": {
       "layout": "IPY_MODEL_43bd8301de7c4d7db8b60a7b5608a89e",
       "style": "IPY_MODEL_33e103cf03e9478c8e4174c20df412a1",
       "value": "100%"
      }
     },
     "a3f633e1ef934efeb713b7e8358f4163": {
      "model_module": "@jupyter-widgets/base",
      "model_module_version": "1.2.0",
      "model_name": "LayoutModel",
      "state": {}
     },
     "a4bebf42f793418ea761d6079c34a08b": {
      "model_module": "@jupyter-widgets/controls",
      "model_module_version": "1.5.0",
      "model_name": "HTMLModel",
      "state": {
       "layout": "IPY_MODEL_f8423178231e4929bb2c344c67d78b81",
       "style": "IPY_MODEL_3c662d7f4af04085a3ac7bafebd7d1d3",
       "value": " 1/2 [00:01&lt;00:01,  1.17s/it]"
      }
     },
     "a5102ff8330c4b0dae37d9cf6959c56d": {
      "model_module": "@jupyter-widgets/base",
      "model_module_version": "1.2.0",
      "model_name": "LayoutModel",
      "state": {}
     },
     "a5355de131804f7989c483912565d53c": {
      "model_module": "@jupyter-widgets/base",
      "model_module_version": "1.2.0",
      "model_name": "LayoutModel",
      "state": {}
     },
     "a62f5e9d09b548eab82a3487acd9d0cd": {
      "model_module": "@jupyter-widgets/controls",
      "model_module_version": "1.5.0",
      "model_name": "DescriptionStyleModel",
      "state": {
       "description_width": ""
      }
     },
     "a63dd5e206dc447087f2808fdce9fda1": {
      "model_module": "@jupyter-widgets/controls",
      "model_module_version": "1.5.0",
      "model_name": "ProgressStyleModel",
      "state": {
       "description_width": ""
      }
     },
     "a677b23815134308b6bf87883862c85b": {
      "model_module": "@jupyter-widgets/base",
      "model_module_version": "1.2.0",
      "model_name": "LayoutModel",
      "state": {}
     },
     "a765c517638a4f07986b75adbbcf0a24": {
      "model_module": "@jupyter-widgets/controls",
      "model_module_version": "1.5.0",
      "model_name": "DescriptionStyleModel",
      "state": {
       "description_width": ""
      }
     },
     "a7aa099b68ad4432aa16f60128d17cae": {
      "model_module": "@jupyter-widgets/controls",
      "model_module_version": "1.5.0",
      "model_name": "ProgressStyleModel",
      "state": {
       "description_width": ""
      }
     },
     "a7e23ecfeba348e791b68302d21b9e89": {
      "model_module": "@jupyter-widgets/controls",
      "model_module_version": "1.5.0",
      "model_name": "HTMLModel",
      "state": {
       "layout": "IPY_MODEL_eba592dc7f3c4cdba23e56071829f4b4",
       "style": "IPY_MODEL_8dd635cd05194d7ca8607bb6c31ce0ff",
       "value": " 2/2 [00:00&lt;00:00, 17.04it/s]"
      }
     },
     "a993d1a682e648d3bac026f6074e170b": {
      "model_module": "@jupyter-widgets/base",
      "model_module_version": "1.2.0",
      "model_name": "LayoutModel",
      "state": {}
     },
     "a9d8a893352e4fe7ab20c1e37737c1a6": {
      "model_module": "@jupyter-widgets/base",
      "model_module_version": "1.2.0",
      "model_name": "LayoutModel",
      "state": {}
     },
     "aacfd191c9474c0b8831441e59a87559": {
      "model_module": "@jupyter-widgets/controls",
      "model_module_version": "1.5.0",
      "model_name": "DescriptionStyleModel",
      "state": {
       "description_width": ""
      }
     },
     "ac214bef777e42c39f4fc58cfa3cee60": {
      "model_module": "@jupyter-widgets/base",
      "model_module_version": "1.2.0",
      "model_name": "LayoutModel",
      "state": {}
     },
     "ae7ee03d36de4dadaa069d63ed96b9ec": {
      "model_module": "@jupyter-widgets/base",
      "model_module_version": "1.2.0",
      "model_name": "LayoutModel",
      "state": {}
     },
     "af16315ded1a4f40b0b32abd9324d50f": {
      "model_module": "@jupyter-widgets/controls",
      "model_module_version": "1.5.0",
      "model_name": "HTMLModel",
      "state": {
       "layout": "IPY_MODEL_bef00625fc0546cd8e98eee81b6f4532",
       "style": "IPY_MODEL_35cc5494a318429b9897980469d300e5",
       "value": " 50%"
      }
     },
     "afc50570aba24f19a73fc4d6fe56bd02": {
      "model_module": "@jupyter-widgets/base",
      "model_module_version": "1.2.0",
      "model_name": "LayoutModel",
      "state": {}
     },
     "b057b994640e43cfa6fe852dacafa571": {
      "model_module": "@jupyter-widgets/controls",
      "model_module_version": "1.5.0",
      "model_name": "HTMLModel",
      "state": {
       "layout": "IPY_MODEL_d14e91dc5b35432896687560281e67a4",
       "style": "IPY_MODEL_fe21fe06ebbc48439b0a4e86e0f02d59",
       "value": " 2/2 [00:24&lt;00:00, 13.70s/it]"
      }
     },
     "b21bb5bbff714c57bd778670eaa26527": {
      "model_module": "@jupyter-widgets/controls",
      "model_module_version": "1.5.0",
      "model_name": "FloatProgressModel",
      "state": {
       "bar_style": "success",
       "layout": "IPY_MODEL_4bbac577f1354491becdc872c69d1e4c",
       "max": 2,
       "style": "IPY_MODEL_f25a6a84cfd349d3b80fdc69df786061",
       "value": 2
      }
     },
     "b22fbd0da33144749f2150738079a101": {
      "model_module": "@jupyter-widgets/base",
      "model_module_version": "1.2.0",
      "model_name": "LayoutModel",
      "state": {}
     },
     "b3b5c4b1617a4057ae269f8628c2d0ac": {
      "model_module": "@jupyter-widgets/controls",
      "model_module_version": "1.5.0",
      "model_name": "HTMLModel",
      "state": {
       "layout": "IPY_MODEL_98257c535f7d4eefa48168d16b5cd056",
       "style": "IPY_MODEL_f46abae1b49845559e5c8e686e24a0d8",
       "value": "100%"
      }
     },
     "b41f694063e84db1a852b9f0bdd459fa": {
      "model_module": "@jupyter-widgets/base",
      "model_module_version": "1.2.0",
      "model_name": "LayoutModel",
      "state": {}
     },
     "b7db3634b1b0423b8974f4075deb1882": {
      "model_module": "@jupyter-widgets/base",
      "model_module_version": "1.2.0",
      "model_name": "LayoutModel",
      "state": {}
     },
     "b7efbc90143647e89b56dc356331ef63": {
      "model_module": "@jupyter-widgets/controls",
      "model_module_version": "1.5.0",
      "model_name": "HBoxModel",
      "state": {
       "children": [
        "IPY_MODEL_25d9cac89ea54ba99ce65d35c2202318",
        "IPY_MODEL_74000755f0fe4238b6e28088cc14db29",
        "IPY_MODEL_b966b9727e10441781541634c56980e8"
       ],
       "layout": "IPY_MODEL_fa2b401a684441e8a8a0868ed3d70b91"
      }
     },
     "b7f0c49e61c7444ca630acbffe846045": {
      "model_module": "@jupyter-widgets/controls",
      "model_module_version": "1.5.0",
      "model_name": "HBoxModel",
      "state": {
       "children": [
        "IPY_MODEL_e7ed4a1308b842858693d1084ca6f3de",
        "IPY_MODEL_0cb634a5b95347dd9332a821b948b2bf",
        "IPY_MODEL_a4bebf42f793418ea761d6079c34a08b"
       ],
       "layout": "IPY_MODEL_bace9bab6b0446daa011adf4028fbc66"
      }
     },
     "b85f37d7ac2e481395ab0816accd9214": {
      "model_module": "@jupyter-widgets/base",
      "model_module_version": "1.2.0",
      "model_name": "LayoutModel",
      "state": {}
     },
     "b8a2f3b76fa0463d82fe0da4ca6224e3": {
      "model_module": "@jupyter-widgets/base",
      "model_module_version": "1.2.0",
      "model_name": "LayoutModel",
      "state": {}
     },
     "b966b9727e10441781541634c56980e8": {
      "model_module": "@jupyter-widgets/controls",
      "model_module_version": "1.5.0",
      "model_name": "HTMLModel",
      "state": {
       "layout": "IPY_MODEL_c50e8630e46743b99980eb11762a5ef5",
       "style": "IPY_MODEL_d8b186abe0924d54bc01f1e748e4ed1d",
       "value": " 1/1 [00:00&lt;00:00,  2.35it/s]"
      }
     },
     "b9b2b17ded014fdc9b65781fe35393b0": {
      "model_module": "@jupyter-widgets/controls",
      "model_module_version": "1.5.0",
      "model_name": "DescriptionStyleModel",
      "state": {
       "description_width": ""
      }
     },
     "bace9bab6b0446daa011adf4028fbc66": {
      "model_module": "@jupyter-widgets/base",
      "model_module_version": "1.2.0",
      "model_name": "LayoutModel",
      "state": {}
     },
     "bba76b389dc3421eb91aee01cc188c06": {
      "model_module": "@jupyter-widgets/base",
      "model_module_version": "1.2.0",
      "model_name": "LayoutModel",
      "state": {}
     },
     "bcc8f22624a84b6c823a1bb7626c10b8": {
      "model_module": "@jupyter-widgets/controls",
      "model_module_version": "1.5.0",
      "model_name": "HBoxModel",
      "state": {
       "children": [
        "IPY_MODEL_3bc524735d54493b82132441296fa579",
        "IPY_MODEL_e9f3d2b0cfef4916b5ca58f490a772cc",
        "IPY_MODEL_1a1921a3bc5c492a9bdd3871f875deed"
       ],
       "layout": "IPY_MODEL_2e22c6360a20451f8f20e0eecd7bea3a"
      }
     },
     "bcd68f3ab02f472c8a7b36ccbae99c60": {
      "model_module": "@jupyter-widgets/controls",
      "model_module_version": "1.5.0",
      "model_name": "HBoxModel",
      "state": {
       "children": [
        "IPY_MODEL_f53c9c219a814d2a98e939d1f46c006f",
        "IPY_MODEL_5b967557b5f946a6aa8810252a8c157b",
        "IPY_MODEL_9778919e37c643bf8eda81c17cb948a4"
       ],
       "layout": "IPY_MODEL_efddb283cb9543459464af25b8c4c90b"
      }
     },
     "bceb11b33d36464d9824daeb5ea66bd0": {
      "model_module": "@jupyter-widgets/controls",
      "model_module_version": "1.5.0",
      "model_name": "HTMLModel",
      "state": {
       "layout": "IPY_MODEL_7909d4a7700842e6842db1a2aa091b8c",
       "style": "IPY_MODEL_74f3cf248ef343c8afc6e216b598204d",
       "value": "100%"
      }
     },
     "bda63418489d4e6fad25bedc0c9516a5": {
      "model_module": "@jupyter-widgets/controls",
      "model_module_version": "1.5.0",
      "model_name": "FloatProgressModel",
      "state": {
       "bar_style": "danger",
       "layout": "IPY_MODEL_d752f246ab9048048d75271ce8074320",
       "max": 2,
       "style": "IPY_MODEL_a7aa099b68ad4432aa16f60128d17cae",
       "value": 1
      }
     },
     "bda88321d2384be79a0ed05596e55e5c": {
      "model_module": "@jupyter-widgets/base",
      "model_module_version": "1.2.0",
      "model_name": "LayoutModel",
      "state": {}
     },
     "bef00625fc0546cd8e98eee81b6f4532": {
      "model_module": "@jupyter-widgets/base",
      "model_module_version": "1.2.0",
      "model_name": "LayoutModel",
      "state": {}
     },
     "c0d724ff92054c19bdee16073eb4263a": {
      "model_module": "@jupyter-widgets/base",
      "model_module_version": "1.2.0",
      "model_name": "LayoutModel",
      "state": {}
     },
     "c1721918dd74435480f53fbde79f15a7": {
      "model_module": "@jupyter-widgets/base",
      "model_module_version": "1.2.0",
      "model_name": "LayoutModel",
      "state": {}
     },
     "c20a7b20a4454ffcafddcf4007acfe53": {
      "model_module": "@jupyter-widgets/controls",
      "model_module_version": "1.5.0",
      "model_name": "ProgressStyleModel",
      "state": {
       "description_width": ""
      }
     },
     "c239a6432fd644b78f5474abd73f6f9d": {
      "model_module": "@jupyter-widgets/base",
      "model_module_version": "1.2.0",
      "model_name": "LayoutModel",
      "state": {}
     },
     "c2e7f1e3014d40d08379a107b71666e3": {
      "model_module": "@jupyter-widgets/controls",
      "model_module_version": "1.5.0",
      "model_name": "HBoxModel",
      "state": {
       "children": [
        "IPY_MODEL_3c57fdf6c1604a36aa1b76a2366baf6c",
        "IPY_MODEL_9b34f20f174348f694bb4b1706db80a5",
        "IPY_MODEL_f818da27ab69436a85da3aa6b16e6fd3"
       ],
       "layout": "IPY_MODEL_eb32d6597973400f8a79f37551431622"
      }
     },
     "c33d9155458149e6960d3016eac245f4": {
      "model_module": "@jupyter-widgets/base",
      "model_module_version": "1.2.0",
      "model_name": "LayoutModel",
      "state": {}
     },
     "c383c19fbed14edbb4a50db15455b49c": {
      "model_module": "@jupyter-widgets/base",
      "model_module_version": "1.2.0",
      "model_name": "LayoutModel",
      "state": {}
     },
     "c4373634d87d4c1eac88ec53d0eb17aa": {
      "model_module": "@jupyter-widgets/base",
      "model_module_version": "1.2.0",
      "model_name": "LayoutModel",
      "state": {}
     },
     "c461c503801e4909bbd9f27989d08214": {
      "model_module": "@jupyter-widgets/base",
      "model_module_version": "1.2.0",
      "model_name": "LayoutModel",
      "state": {}
     },
     "c50e8630e46743b99980eb11762a5ef5": {
      "model_module": "@jupyter-widgets/base",
      "model_module_version": "1.2.0",
      "model_name": "LayoutModel",
      "state": {}
     },
     "c71647082f174d8d802d8ac18f63ec76": {
      "model_module": "@jupyter-widgets/controls",
      "model_module_version": "1.5.0",
      "model_name": "ProgressStyleModel",
      "state": {
       "description_width": ""
      }
     },
     "c73e37d1278c4c1da51e1fe0bdbdca09": {
      "model_module": "@jupyter-widgets/controls",
      "model_module_version": "1.5.0",
      "model_name": "HBoxModel",
      "state": {
       "children": [
        "IPY_MODEL_1b05436748eb44e8bcf2d16cf830d669",
        "IPY_MODEL_76d83d02ae354faf828674a101620740",
        "IPY_MODEL_2a396fa788f54b12a06d0563b1cddbcc"
       ],
       "layout": "IPY_MODEL_c0d724ff92054c19bdee16073eb4263a"
      }
     },
     "c776b2fb659748e6a08097546532c4eb": {
      "model_module": "@jupyter-widgets/base",
      "model_module_version": "1.2.0",
      "model_name": "LayoutModel",
      "state": {}
     },
     "c7bb0f1eed3d4adbafdf2498b56d0c6a": {
      "model_module": "@jupyter-widgets/base",
      "model_module_version": "1.2.0",
      "model_name": "LayoutModel",
      "state": {}
     },
     "c863f747692843ddaf174fb0a2741cf4": {
      "model_module": "@jupyter-widgets/base",
      "model_module_version": "1.2.0",
      "model_name": "LayoutModel",
      "state": {}
     },
     "c93503fc3ca2455ea45e3cc5f6e09e2e": {
      "model_module": "@jupyter-widgets/controls",
      "model_module_version": "1.5.0",
      "model_name": "DescriptionStyleModel",
      "state": {
       "description_width": ""
      }
     },
     "ca03981372e54350b9a58d3a23c1bd84": {
      "model_module": "@jupyter-widgets/base",
      "model_module_version": "1.2.0",
      "model_name": "LayoutModel",
      "state": {}
     },
     "cadfc4e3288e4db4b762a10fe298578c": {
      "model_module": "@jupyter-widgets/controls",
      "model_module_version": "1.5.0",
      "model_name": "DescriptionStyleModel",
      "state": {
       "description_width": ""
      }
     },
     "cae4e771e3d840c09de00ba31faf516c": {
      "model_module": "@jupyter-widgets/controls",
      "model_module_version": "1.5.0",
      "model_name": "DescriptionStyleModel",
      "state": {
       "description_width": ""
      }
     },
     "cb4b04a4dde94351874be9b372195798": {
      "model_module": "@jupyter-widgets/controls",
      "model_module_version": "1.5.0",
      "model_name": "HTMLModel",
      "state": {
       "layout": "IPY_MODEL_e7033380339c40cbbc5526b57ab458e9",
       "style": "IPY_MODEL_650dca7bd1f140288dbfd8a66d98ac2c",
       "value": " 1/2 [00:00&lt;00:00,  3.07it/s]"
      }
     },
     "cd2a8f316260478d8b44f587fd6ed7ab": {
      "model_module": "@jupyter-widgets/controls",
      "model_module_version": "1.5.0",
      "model_name": "HTMLModel",
      "state": {
       "layout": "IPY_MODEL_7432aace9c9c40b88f307d1622153351",
       "style": "IPY_MODEL_5b6fa852fff648a79500f9f026623205",
       "value": " 2/2 [00:00&lt;00:00, 15.84it/s]"
      }
     },
     "cfc961bc614944e4b840d1cde67774af": {
      "model_module": "@jupyter-widgets/controls",
      "model_module_version": "1.5.0",
      "model_name": "HBoxModel",
      "state": {
       "children": [
        "IPY_MODEL_2d06985e0cf24dd0af6905e70341e169",
        "IPY_MODEL_843d2190862c458a83299bc42cf449e7",
        "IPY_MODEL_5c3c8f2d72e84098a4f03385e82e1643"
       ],
       "layout": "IPY_MODEL_662a1c2ac0cc4eae8faa9faca8b7e929"
      }
     },
     "d01fe8df2a0f4d54a407d0ff2acfd810": {
      "model_module": "@jupyter-widgets/controls",
      "model_module_version": "1.5.0",
      "model_name": "ProgressStyleModel",
      "state": {
       "description_width": ""
      }
     },
     "d020c3bdf9784ae7b10c6822a16941d0": {
      "model_module": "@jupyter-widgets/base",
      "model_module_version": "1.2.0",
      "model_name": "LayoutModel",
      "state": {}
     },
     "d0a7093a843c4dacad813906754db45c": {
      "model_module": "@jupyter-widgets/controls",
      "model_module_version": "1.5.0",
      "model_name": "FloatProgressModel",
      "state": {
       "bar_style": "danger",
       "layout": "IPY_MODEL_c4373634d87d4c1eac88ec53d0eb17aa",
       "max": 2,
       "style": "IPY_MODEL_5cd1f54d63eb4c34b7ea223a935222a7",
       "value": 1
      }
     },
     "d12729b7896f4a23a4dcc76556a8de61": {
      "model_module": "@jupyter-widgets/controls",
      "model_module_version": "1.5.0",
      "model_name": "ProgressStyleModel",
      "state": {
       "description_width": ""
      }
     },
     "d14e91dc5b35432896687560281e67a4": {
      "model_module": "@jupyter-widgets/base",
      "model_module_version": "1.2.0",
      "model_name": "LayoutModel",
      "state": {}
     },
     "d1509acd3232456892fbd50bf2006af5": {
      "model_module": "@jupyter-widgets/controls",
      "model_module_version": "1.5.0",
      "model_name": "HBoxModel",
      "state": {
       "children": [
        "IPY_MODEL_18036a05ed2d458e9815b13fa6c0b8dd",
        "IPY_MODEL_e5908183ec034248923907ffeef3ffcb",
        "IPY_MODEL_4c3aaaa00a844168ad88e49981d9d030"
       ],
       "layout": "IPY_MODEL_b41f694063e84db1a852b9f0bdd459fa"
      }
     },
     "d1a823e669dc4538809895cd497377ef": {
      "model_module": "@jupyter-widgets/controls",
      "model_module_version": "1.5.0",
      "model_name": "DescriptionStyleModel",
      "state": {
       "description_width": ""
      }
     },
     "d1aa00a87db743dfbe7b2f035bd39379": {
      "model_module": "@jupyter-widgets/base",
      "model_module_version": "1.2.0",
      "model_name": "LayoutModel",
      "state": {}
     },
     "d241e9cb01d94d74ae0ba6cdd43a543d": {
      "model_module": "@jupyter-widgets/controls",
      "model_module_version": "1.5.0",
      "model_name": "FloatProgressModel",
      "state": {
       "bar_style": "success",
       "layout": "IPY_MODEL_95046ced9400482b825c7ea9d1bbe36b",
       "max": 3,
       "style": "IPY_MODEL_98226df3ad244855a831bbbf6a9c4de6",
       "value": 3
      }
     },
     "d711df885d324bb580d28da50f6fd2bc": {
      "model_module": "@jupyter-widgets/base",
      "model_module_version": "1.2.0",
      "model_name": "LayoutModel",
      "state": {}
     },
     "d730dcfdd5f44c208c100fdfc4b1d259": {
      "model_module": "@jupyter-widgets/controls",
      "model_module_version": "1.5.0",
      "model_name": "HTMLModel",
      "state": {
       "layout": "IPY_MODEL_dee3764f7b4a4929a3c4709da3c43214",
       "style": "IPY_MODEL_8ecf60e4818e404b8b54542978ffe276",
       "value": "100%"
      }
     },
     "d752f246ab9048048d75271ce8074320": {
      "model_module": "@jupyter-widgets/base",
      "model_module_version": "1.2.0",
      "model_name": "LayoutModel",
      "state": {}
     },
     "d836859f35344a3b9c37b6afaade6e31": {
      "model_module": "@jupyter-widgets/base",
      "model_module_version": "1.2.0",
      "model_name": "LayoutModel",
      "state": {}
     },
     "d8b186abe0924d54bc01f1e748e4ed1d": {
      "model_module": "@jupyter-widgets/controls",
      "model_module_version": "1.5.0",
      "model_name": "DescriptionStyleModel",
      "state": {
       "description_width": ""
      }
     },
     "d8da5d93171f4dbd8246cbb29b1ccda9": {
      "model_module": "@jupyter-widgets/base",
      "model_module_version": "1.2.0",
      "model_name": "LayoutModel",
      "state": {}
     },
     "d97081fb34584e57bd8120f2f4099c3e": {
      "model_module": "@jupyter-widgets/controls",
      "model_module_version": "1.5.0",
      "model_name": "DescriptionStyleModel",
      "state": {
       "description_width": ""
      }
     },
     "d9a0bcf25dee49b591247d9ce7927d7f": {
      "model_module": "@jupyter-widgets/controls",
      "model_module_version": "1.5.0",
      "model_name": "DescriptionStyleModel",
      "state": {
       "description_width": ""
      }
     },
     "d9a79e8b639f4799929aff560495afc3": {
      "model_module": "@jupyter-widgets/controls",
      "model_module_version": "1.5.0",
      "model_name": "HBoxModel",
      "state": {
       "children": [
        "IPY_MODEL_1741b6b96c104d9f95310b13de089f14",
        "IPY_MODEL_0eb0f2cc6bd04f849897a7270f8d42be",
        "IPY_MODEL_2eaf6695a98f489a849e535ad421a758"
       ],
       "layout": "IPY_MODEL_c239a6432fd644b78f5474abd73f6f9d"
      }
     },
     "da5f8c02a9aa4d99af12fa513eabcf3b": {
      "model_module": "@jupyter-widgets/controls",
      "model_module_version": "1.5.0",
      "model_name": "DescriptionStyleModel",
      "state": {
       "description_width": ""
      }
     },
     "daa05035a33f43a5b76e907529e0a28b": {
      "model_module": "@jupyter-widgets/controls",
      "model_module_version": "1.5.0",
      "model_name": "DescriptionStyleModel",
      "state": {
       "description_width": ""
      }
     },
     "dc787dd925de4cdd98c37d8ccaa98be1": {
      "model_module": "@jupyter-widgets/controls",
      "model_module_version": "1.5.0",
      "model_name": "ProgressStyleModel",
      "state": {
       "description_width": ""
      }
     },
     "dcdfe958f598486b96d6a290f51b5d3b": {
      "model_module": "@jupyter-widgets/base",
      "model_module_version": "1.2.0",
      "model_name": "LayoutModel",
      "state": {}
     },
     "dee3764f7b4a4929a3c4709da3c43214": {
      "model_module": "@jupyter-widgets/base",
      "model_module_version": "1.2.0",
      "model_name": "LayoutModel",
      "state": {}
     },
     "dfb2b64aee5046d7a626aa624f7643c9": {
      "model_module": "@jupyter-widgets/controls",
      "model_module_version": "1.5.0",
      "model_name": "HBoxModel",
      "state": {
       "children": [
        "IPY_MODEL_d730dcfdd5f44c208c100fdfc4b1d259",
        "IPY_MODEL_e7af5818a306403e94df89ce04bb666d",
        "IPY_MODEL_00cb389cece943ec87810b2981ce29b3"
       ],
       "layout": "IPY_MODEL_105768b56da543a1a8e5535efc0fae6f"
      }
     },
     "e0582c1fb3c14d23876937bb8f2060cc": {
      "model_module": "@jupyter-widgets/base",
      "model_module_version": "1.2.0",
      "model_name": "LayoutModel",
      "state": {}
     },
     "e069804f892e4f4585bda9a8f11c8ff2": {
      "model_module": "@jupyter-widgets/controls",
      "model_module_version": "1.5.0",
      "model_name": "HBoxModel",
      "state": {
       "children": [
        "IPY_MODEL_1245d37ca0ba4c56a9498b64ea715e7e",
        "IPY_MODEL_71148c974c14431695705e8d76bc8e62",
        "IPY_MODEL_b057b994640e43cfa6fe852dacafa571"
       ],
       "layout": "IPY_MODEL_3bf139ad79984a658de8907b23723b69"
      }
     },
     "e3844b030fa648dd954c941cf1faa879": {
      "model_module": "@jupyter-widgets/base",
      "model_module_version": "1.2.0",
      "model_name": "LayoutModel",
      "state": {}
     },
     "e5908183ec034248923907ffeef3ffcb": {
      "model_module": "@jupyter-widgets/controls",
      "model_module_version": "1.5.0",
      "model_name": "FloatProgressModel",
      "state": {
       "bar_style": "danger",
       "layout": "IPY_MODEL_97175809fb384b6ba9f9e2e1ff8546fa",
       "max": 2,
       "style": "IPY_MODEL_a63dd5e206dc447087f2808fdce9fda1",
       "value": 1
      }
     },
     "e636be2305de495291e43a9c327fe1c4": {
      "model_module": "@jupyter-widgets/base",
      "model_module_version": "1.2.0",
      "model_name": "LayoutModel",
      "state": {}
     },
     "e7033380339c40cbbc5526b57ab458e9": {
      "model_module": "@jupyter-widgets/base",
      "model_module_version": "1.2.0",
      "model_name": "LayoutModel",
      "state": {}
     },
     "e7862c2fddbd4cb0a8b4e3ee7fd28fc5": {
      "model_module": "@jupyter-widgets/controls",
      "model_module_version": "1.5.0",
      "model_name": "DescriptionStyleModel",
      "state": {
       "description_width": ""
      }
     },
     "e7af5818a306403e94df89ce04bb666d": {
      "model_module": "@jupyter-widgets/controls",
      "model_module_version": "1.5.0",
      "model_name": "FloatProgressModel",
      "state": {
       "bar_style": "success",
       "layout": "IPY_MODEL_a069f4dbcb92475e92e8eab00a8d25b9",
       "max": 2,
       "style": "IPY_MODEL_9001316796c94177a107aab1cf48e58c",
       "value": 2
      }
     },
     "e7ed4a1308b842858693d1084ca6f3de": {
      "model_module": "@jupyter-widgets/controls",
      "model_module_version": "1.5.0",
      "model_name": "HTMLModel",
      "state": {
       "layout": "IPY_MODEL_c383c19fbed14edbb4a50db15455b49c",
       "style": "IPY_MODEL_ec81a5e3bc874158afe9c76ed284e535",
       "value": " 50%"
      }
     },
     "e9f3d2b0cfef4916b5ca58f490a772cc": {
      "model_module": "@jupyter-widgets/controls",
      "model_module_version": "1.5.0",
      "model_name": "FloatProgressModel",
      "state": {
       "bar_style": "success",
       "layout": "IPY_MODEL_c7bb0f1eed3d4adbafdf2498b56d0c6a",
       "max": 1,
       "style": "IPY_MODEL_65aeb5bd981a4f53af67f90efbd50704",
       "value": 1
      }
     },
     "e9f71f74986b4367bd701911698ce247": {
      "model_module": "@jupyter-widgets/base",
      "model_module_version": "1.2.0",
      "model_name": "LayoutModel",
      "state": {}
     },
     "ea37a97c1599481986118e60a80f268d": {
      "model_module": "@jupyter-widgets/base",
      "model_module_version": "1.2.0",
      "model_name": "LayoutModel",
      "state": {}
     },
     "ea537516d5754be08e064bfcc23e238e": {
      "model_module": "@jupyter-widgets/controls",
      "model_module_version": "1.5.0",
      "model_name": "HTMLModel",
      "state": {
       "layout": "IPY_MODEL_23afeab8033c425988dd3949966e3493",
       "style": "IPY_MODEL_a62f5e9d09b548eab82a3487acd9d0cd",
       "value": "100%"
      }
     },
     "eb2625259e5947aea05540a1077d35d3": {
      "model_module": "@jupyter-widgets/controls",
      "model_module_version": "1.5.0",
      "model_name": "HBoxModel",
      "state": {
       "children": [
        "IPY_MODEL_fa93b121a2174454b8438760b5d2d5ce",
        "IPY_MODEL_314e85ab3d654f0097793d24dbd77dd8",
        "IPY_MODEL_5ddd055ce91f464a85c6a89acd62d0f4"
       ],
       "layout": "IPY_MODEL_1a9cc1456e3240b292a7fe833e091eae"
      }
     },
     "eb32d6597973400f8a79f37551431622": {
      "model_module": "@jupyter-widgets/base",
      "model_module_version": "1.2.0",
      "model_name": "LayoutModel",
      "state": {}
     },
     "eb7d96675fe64cb6885da664f233ea39": {
      "model_module": "@jupyter-widgets/controls",
      "model_module_version": "1.5.0",
      "model_name": "DescriptionStyleModel",
      "state": {
       "description_width": ""
      }
     },
     "eba592dc7f3c4cdba23e56071829f4b4": {
      "model_module": "@jupyter-widgets/base",
      "model_module_version": "1.2.0",
      "model_name": "LayoutModel",
      "state": {}
     },
     "ec6fb5c6ce254c3cb70d66ae4243427e": {
      "model_module": "@jupyter-widgets/base",
      "model_module_version": "1.2.0",
      "model_name": "LayoutModel",
      "state": {}
     },
     "ec81a5e3bc874158afe9c76ed284e535": {
      "model_module": "@jupyter-widgets/controls",
      "model_module_version": "1.5.0",
      "model_name": "DescriptionStyleModel",
      "state": {
       "description_width": ""
      }
     },
     "eca94c015fd54631853b5c6d12c2ebd0": {
      "model_module": "@jupyter-widgets/base",
      "model_module_version": "1.2.0",
      "model_name": "LayoutModel",
      "state": {}
     },
     "ee2da59fd02b443c82de4c0f348ee158": {
      "model_module": "@jupyter-widgets/controls",
      "model_module_version": "1.5.0",
      "model_name": "HBoxModel",
      "state": {
       "children": [
        "IPY_MODEL_bceb11b33d36464d9824daeb5ea66bd0",
        "IPY_MODEL_b21bb5bbff714c57bd778670eaa26527",
        "IPY_MODEL_a7e23ecfeba348e791b68302d21b9e89"
       ],
       "layout": "IPY_MODEL_a5355de131804f7989c483912565d53c"
      }
     },
     "ee857ec2d1b4421b8348df473e5c6075": {
      "model_module": "@jupyter-widgets/controls",
      "model_module_version": "1.5.0",
      "model_name": "FloatProgressModel",
      "state": {
       "bar_style": "success",
       "layout": "IPY_MODEL_ac214bef777e42c39f4fc58cfa3cee60",
       "max": 1,
       "style": "IPY_MODEL_f5634d69e8274503b084e34c17b260c9",
       "value": 1
      }
     },
     "efda77173e104bc89ccb0b420f7ebd46": {
      "model_module": "@jupyter-widgets/base",
      "model_module_version": "1.2.0",
      "model_name": "LayoutModel",
      "state": {}
     },
     "efddb283cb9543459464af25b8c4c90b": {
      "model_module": "@jupyter-widgets/base",
      "model_module_version": "1.2.0",
      "model_name": "LayoutModel",
      "state": {}
     },
     "f02170c11c014676b8be7e112fb7cef7": {
      "model_module": "@jupyter-widgets/controls",
      "model_module_version": "1.5.0",
      "model_name": "HTMLModel",
      "state": {
       "layout": "IPY_MODEL_1bc4a0997bb94918b966f2ea3f28d5f3",
       "style": "IPY_MODEL_6ff641671c1e4b09aa2efe9469847372",
       "value": " 1/2 [00:00&lt;00:00,  2.00it/s]"
      }
     },
     "f25a6a84cfd349d3b80fdc69df786061": {
      "model_module": "@jupyter-widgets/controls",
      "model_module_version": "1.5.0",
      "model_name": "ProgressStyleModel",
      "state": {
       "description_width": ""
      }
     },
     "f3e58dbd760448a89206a28bfe7c4514": {
      "model_module": "@jupyter-widgets/controls",
      "model_module_version": "1.5.0",
      "model_name": "ProgressStyleModel",
      "state": {
       "description_width": ""
      }
     },
     "f462c2407c984c988ad0530fdfcc0333": {
      "model_module": "@jupyter-widgets/controls",
      "model_module_version": "1.5.0",
      "model_name": "HTMLModel",
      "state": {
       "layout": "IPY_MODEL_fd5be36ce6b14171af48ef6ee14f42d4",
       "style": "IPY_MODEL_4a2164696d354722aced652656133fef",
       "value": " 1/1 [00:00&lt;00:00,  2.73it/s]"
      }
     },
     "f46abae1b49845559e5c8e686e24a0d8": {
      "model_module": "@jupyter-widgets/controls",
      "model_module_version": "1.5.0",
      "model_name": "DescriptionStyleModel",
      "state": {
       "description_width": ""
      }
     },
     "f53c9c219a814d2a98e939d1f46c006f": {
      "model_module": "@jupyter-widgets/controls",
      "model_module_version": "1.5.0",
      "model_name": "HTMLModel",
      "state": {
       "layout": "IPY_MODEL_1ebbd9b897f74e27821215e3aa3f6e1a",
       "style": "IPY_MODEL_d9a0bcf25dee49b591247d9ce7927d7f",
       "value": " 50%"
      }
     },
     "f5634d69e8274503b084e34c17b260c9": {
      "model_module": "@jupyter-widgets/controls",
      "model_module_version": "1.5.0",
      "model_name": "ProgressStyleModel",
      "state": {
       "description_width": ""
      }
     },
     "f5ac991ac5944c3082ffa794e2f11327": {
      "model_module": "@jupyter-widgets/base",
      "model_module_version": "1.2.0",
      "model_name": "LayoutModel",
      "state": {}
     },
     "f64043bbca8742eb89054f7de5904323": {
      "model_module": "@jupyter-widgets/controls",
      "model_module_version": "1.5.0",
      "model_name": "HBoxModel",
      "state": {
       "children": [
        "IPY_MODEL_66adfbc024194b79afc1772e7fba97fe",
        "IPY_MODEL_8f900fb3e4264594b9d8a1bea67dbcbb",
        "IPY_MODEL_f02170c11c014676b8be7e112fb7cef7"
       ],
       "layout": "IPY_MODEL_dcdfe958f598486b96d6a290f51b5d3b"
      }
     },
     "f712616858b0456590fd18678726df2e": {
      "model_module": "@jupyter-widgets/base",
      "model_module_version": "1.2.0",
      "model_name": "LayoutModel",
      "state": {}
     },
     "f818da27ab69436a85da3aa6b16e6fd3": {
      "model_module": "@jupyter-widgets/controls",
      "model_module_version": "1.5.0",
      "model_name": "HTMLModel",
      "state": {
       "layout": "IPY_MODEL_6a0e3492bedf4410982e420627cbe7a8",
       "style": "IPY_MODEL_7c193c9ed0f44a2bad67ef6e44cd1178",
       "value": " 1/2 [00:00&lt;00:00,  2.84it/s]"
      }
     },
     "f8423178231e4929bb2c344c67d78b81": {
      "model_module": "@jupyter-widgets/base",
      "model_module_version": "1.2.0",
      "model_name": "LayoutModel",
      "state": {}
     },
     "f85dafb6a56142168fa7113802a010dc": {
      "model_module": "@jupyter-widgets/controls",
      "model_module_version": "1.5.0",
      "model_name": "FloatProgressModel",
      "state": {
       "bar_style": "success",
       "layout": "IPY_MODEL_5441a963061e4726af1e57d889b01d1c",
       "max": 6,
       "style": "IPY_MODEL_01139a5c23124b30956e4ffceadbe354",
       "value": 6
      }
     },
     "f86a3bea5cee432ea4d2e3291db74e6a": {
      "model_module": "@jupyter-widgets/base",
      "model_module_version": "1.2.0",
      "model_name": "LayoutModel",
      "state": {}
     },
     "fa2b401a684441e8a8a0868ed3d70b91": {
      "model_module": "@jupyter-widgets/base",
      "model_module_version": "1.2.0",
      "model_name": "LayoutModel",
      "state": {}
     },
     "fa93b121a2174454b8438760b5d2d5ce": {
      "model_module": "@jupyter-widgets/controls",
      "model_module_version": "1.5.0",
      "model_name": "HTMLModel",
      "state": {
       "layout": "IPY_MODEL_b85f37d7ac2e481395ab0816accd9214",
       "style": "IPY_MODEL_912c15924c564bb8a77d48701264fa58",
       "value": "100%"
      }
     },
     "fb77e1ac1b304637b2829f9de0f7cbce": {
      "model_module": "@jupyter-widgets/controls",
      "model_module_version": "1.5.0",
      "model_name": "HBoxModel",
      "state": {
       "children": [
        "IPY_MODEL_192fcf0164594da780bbda702ad7fbf0",
        "IPY_MODEL_6bdff5ad99904f60ae1d287374183677",
        "IPY_MODEL_5d7720bc975c4f8b81530ab8acdb0c27"
       ],
       "layout": "IPY_MODEL_0fc8438a3c2e44579af9d5c51b2fb0fc"
      }
     },
     "fbf53d2ad7394394afb914c2485a57dc": {
      "model_module": "@jupyter-widgets/controls",
      "model_module_version": "1.5.0",
      "model_name": "DescriptionStyleModel",
      "state": {
       "description_width": ""
      }
     },
     "fcdd754f9dec482f8b870becfa9be048": {
      "model_module": "@jupyter-widgets/controls",
      "model_module_version": "1.5.0",
      "model_name": "HBoxModel",
      "state": {
       "children": [
        "IPY_MODEL_575aa54e05744f3085e1522d0204026d",
        "IPY_MODEL_ee857ec2d1b4421b8348df473e5c6075",
        "IPY_MODEL_f462c2407c984c988ad0530fdfcc0333"
       ],
       "layout": "IPY_MODEL_9c78a9658df941459f3c8e0a5ffdbb16"
      }
     },
     "fd5be36ce6b14171af48ef6ee14f42d4": {
      "model_module": "@jupyter-widgets/base",
      "model_module_version": "1.2.0",
      "model_name": "LayoutModel",
      "state": {}
     },
     "fe21fe06ebbc48439b0a4e86e0f02d59": {
      "model_module": "@jupyter-widgets/controls",
      "model_module_version": "1.5.0",
      "model_name": "DescriptionStyleModel",
      "state": {
       "description_width": ""
      }
     },
     "fe8b47d6fc9a4f7aa40141910b343a86": {
      "model_module": "@jupyter-widgets/controls",
      "model_module_version": "1.5.0",
      "model_name": "ProgressStyleModel",
      "state": {
       "description_width": ""
      }
     },
     "ffa577ec36d447b1ae7165865f0ee3c7": {
      "model_module": "@jupyter-widgets/controls",
      "model_module_version": "1.5.0",
      "model_name": "HTMLModel",
      "state": {
       "layout": "IPY_MODEL_c776b2fb659748e6a08097546532c4eb",
       "style": "IPY_MODEL_fbf53d2ad7394394afb914c2485a57dc",
       "value": " 50%"
      }
     },
     "fff84e162af64e2cb606ad8112f8faa1": {
      "model_module": "@jupyter-widgets/controls",
      "model_module_version": "1.5.0",
      "model_name": "HBoxModel",
      "state": {
       "children": [
        "IPY_MODEL_b3b5c4b1617a4057ae269f8628c2d0ac",
        "IPY_MODEL_6967bec446ae48f4994e758444a37849",
        "IPY_MODEL_a308a7d3cfe344d5bfa829bc165ca3a7"
       ],
       "layout": "IPY_MODEL_66dd05ef7ea84391b940d7abf4772b85"
      }
     }
    },
    "version_major": 2,
    "version_minor": 0
   }
  }
 },
 "nbformat": 4,
 "nbformat_minor": 5
}
