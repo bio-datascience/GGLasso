{
 "cells": [
  {
   "cell_type": "markdown",
   "metadata": {},
   "source": [
    "$\\textit{Note:}$ In order to run the following notebook, one should install QIIME 2. The installation instructions can be found [here](https://docs.qiime2.org/2021.4/install/native/)\n",
    "\n",
    "[QIIME 2](https://docs.qiime2.org/2021.4/) is a microbiome bioinformatics platform to analyze amplicon sequence data."
   ]
  },
  {
   "cell_type": "code",
   "execution_count": null,
   "metadata": {
    "ExecuteTime": {
     "end_time": "2020-12-14T18:59:53.916880Z",
     "start_time": "2020-12-14T18:59:52.523503Z"
    }
   },
   "outputs": [],
   "source": [
    "import qiime2\n",
    "import pandas as pd\n",
    "import numpy as np"
   ]
  },
  {
   "cell_type": "markdown",
   "metadata": {},
   "source": [
    "### Metadata of pH values in soil samples"
   ]
  },
  {
   "cell_type": "markdown",
   "metadata": {},
   "source": [
    "Read metadata about the samples, We need only pH"
   ]
  },
  {
   "cell_type": "code",
   "execution_count": null,
   "metadata": {
    "ExecuteTime": {
     "end_time": "2020-12-14T18:59:53.948936Z",
     "start_time": "2020-12-14T18:59:53.920509Z"
    }
   },
   "outputs": [],
   "source": [
    "metadata = pd.read_table('../../data/soil/original/88soils_modified_metadata.txt', index_col=0)"
   ]
  },
  {
   "cell_type": "code",
   "execution_count": null,
   "metadata": {},
   "outputs": [],
   "source": [
    "ph = metadata[\"ph\"].to_csv('../../data/soil/processed/ph.csv', index=True)"
   ]
  },
  {
   "cell_type": "markdown",
   "metadata": {},
   "source": [
    "Import count OTUs data"
   ]
  },
  {
   "cell_type": "code",
   "execution_count": null,
   "metadata": {
    "ExecuteTime": {
     "end_time": "2020-12-14T19:00:24.620542Z",
     "start_time": "2020-12-14T18:59:54.064530Z"
    }
   },
   "outputs": [],
   "source": [
    "%%bash\n",
    "qiime tools import \\\n",
    "    --input-path ../../data/soil/original/238_otu_table.biom \\\n",
    "    --output-path ../../data/soil/original/88soils.biom.qza \\\n",
    "    --type FeatureTable[Frequency]"
   ]
  },
  {
   "cell_type": "markdown",
   "metadata": {},
   "source": [
    "Load the table with 88 soil samples"
   ]
  },
  {
   "cell_type": "code",
   "execution_count": null,
   "metadata": {
    "ExecuteTime": {
     "end_time": "2020-12-14T19:00:31.124280Z",
     "start_time": "2020-12-14T19:00:24.625851Z"
    }
   },
   "outputs": [],
   "source": [
    "table_art = qiime2.Artifact.load('../../data/soil/original/88soils.biom.qza')\n",
    "all_samples = table_art.view(pd.DataFrame)"
   ]
  },
  {
   "cell_type": "markdown",
   "metadata": {},
   "source": [
    "### Preprocessing"
   ]
  },
  {
   "cell_type": "markdown",
   "metadata": {},
   "source": [
    "Select only those OTUs occuring at least $100$ times"
   ]
  },
  {
   "cell_type": "code",
   "execution_count": null,
   "metadata": {
    "ExecuteTime": {
     "end_time": "2020-12-14T19:00:40.418369Z",
     "start_time": "2020-12-14T19:00:31.189770Z"
    }
   },
   "outputs": [],
   "source": [
    "%%bash\n",
    "qiime feature-table filter-features \\\n",
    "    --i-table ../../data/soil/original/88soils.biom.qza \\\n",
    "    --o-filtered-table ../../data/soil/original/88soils_filt100.biom.qza \\\n",
    "    --p-min-frequency 100"
   ]
  },
  {
   "cell_type": "markdown",
   "metadata": {},
   "source": [
    "[Replace](https://docs.qiime2.org/2018.6/plugins/available/composition/add-pseudocount/) zeros with pseudo $1$ in all samples for a smooth CLR transformation in the later analysis."
   ]
  },
  {
   "cell_type": "code",
   "execution_count": null,
   "metadata": {
    "ExecuteTime": {
     "end_time": "2020-12-14T19:01:18.637989Z",
     "start_time": "2020-12-14T19:00:40.422304Z"
    }
   },
   "outputs": [],
   "source": [
    "%%bash\n",
    "qiime composition add-pseudocount \\\n",
    "    --i-table ../../data/soil/original/88soils_filt100.biom.qza \\\n",
    "    --p-pseudocount 1 \\\n",
    "    --o-composition-table ../../data/soil/original/88soils_composition.biom.qza"
   ]
  },
  {
   "cell_type": "markdown",
   "metadata": {},
   "source": [
    "Load the table of filtered and zero-replaced data"
   ]
  },
  {
   "cell_type": "code",
   "execution_count": null,
   "metadata": {},
   "outputs": [],
   "source": [
    "table_1 = qiime2.Artifact.load('../../data/soil/original/88soils_composition.biom.qza')\n",
    "df = table_1.view(pd.DataFrame)"
   ]
  },
  {
   "cell_type": "markdown",
   "metadata": {},
   "source": [
    "Select 116 OTUs which are has been filtered out by [Morton et al](https://www.nature.com/articles/s41467-019-10656-5)"
   ]
  },
  {
   "cell_type": "code",
   "execution_count": null,
   "metadata": {},
   "outputs": [],
   "source": [
    "morton = pd.read_excel('../../data/soil/original/ph_morton.xlsx', engine='openpyxl')\n",
    "morton_otus = np.array(morton['#OTU_ID'])"
   ]
  },
  {
   "cell_type": "code",
   "execution_count": null,
   "metadata": {},
   "outputs": [],
   "source": [
    "our_otus = list(map(int, np.array(df.columns)))"
   ]
  },
  {
   "cell_type": "code",
   "execution_count": null,
   "metadata": {},
   "outputs": [],
   "source": [
    "diff = np.setdiff1d(our_otus, morton_otus)\n",
    "diff = [\"\".join(item) for item in diff.astype(str)]"
   ]
  },
  {
   "cell_type": "markdown",
   "metadata": {},
   "source": [
    "Select OTUs described by Morton et al."
   ]
  },
  {
   "cell_type": "code",
   "execution_count": null,
   "metadata": {},
   "outputs": [],
   "source": [
    "final = df.loc[:, ~df.columns.isin(diff)]\n",
    "final.shape"
   ]
  },
  {
   "cell_type": "code",
   "execution_count": null,
   "metadata": {},
   "outputs": [],
   "source": [
    "final.to_csv('../../data/soil/processed/soil_116.csv', index=True)"
   ]
  }
 ],
 "metadata": {
  "kernelspec": {
   "display_name": "Python 3",
   "language": "python",
   "name": "python3"
  },
  "language_info": {
   "codemirror_mode": {
    "name": "ipython",
    "version": 3
   },
   "file_extension": ".py",
   "mimetype": "text/x-python",
   "name": "python",
   "nbconvert_exporter": "python",
   "pygments_lexer": "ipython3",
   "version": "3.7.10"
  },
  "toc": {
   "base_numbering": 1,
   "nav_menu": {},
   "number_sections": true,
   "sideBar": true,
   "skip_h1_title": false,
   "title_cell": "Table of Contents",
   "title_sidebar": "Contents",
   "toc_cell": false,
   "toc_position": {},
   "toc_section_display": true,
   "toc_window_display": false
  }
 },
 "nbformat": 4,
 "nbformat_minor": 4
}
