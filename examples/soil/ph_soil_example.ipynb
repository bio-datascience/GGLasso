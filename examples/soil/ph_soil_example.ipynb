{
 "cells": [
  {
   "cell_type": "code",
   "execution_count": null,
   "id": "systematic-disney",
   "metadata": {},
   "outputs": [],
   "source": [
    "import os\n",
    "\n",
    "import numpy as np\n",
    "import pandas as pd\n",
    "import pyreadr\n",
    "\n",
    "import seaborn as sns\n",
    "import matplotlib.pyplot as plt\n",
    "from scipy import stats\n",
    "\n",
    "from gglasso.helper.utils import sparsity, zero_replacement, normalize, log_transform\n",
    "from gglasso.problem import glasso_problem\n",
    "from gglasso.helper.basic_linalg import scale_array_by_diagonal"
   ]
  },
  {
   "cell_type": "markdown",
   "id": "hindu-interaction",
   "metadata": {},
   "source": [
    "### Import preprocessed soil data"
   ]
  },
  {
   "cell_type": "code",
   "execution_count": null,
   "id": "french-portfolio",
   "metadata": {},
   "outputs": [],
   "source": [
    "soil = pd.read_csv('../../data/soil/processed/soil_116.csv', sep=',', index_col = 0).T\n",
    "soil.head()"
   ]
  },
  {
   "cell_type": "code",
   "execution_count": null,
   "id": "straight-nurse",
   "metadata": {},
   "outputs": [],
   "source": [
    "ph = pd.read_csv('../../data/soil/processed/ph.csv', sep=',', index_col = 0)\n",
    "ph = ph.reindex(soil.columns)\n",
    "ph.head()"
   ]
  },
  {
   "cell_type": "code",
   "execution_count": null,
   "id": "803d54c4",
   "metadata": {},
   "outputs": [],
   "source": [
    "depth = soil.sum(axis=0)\n",
    "\n",
    "metadata = pd.read_table('../../data/soil/original/88soils_modified_metadata.txt', index_col=0)\n",
    "temperature = metadata[\"annual_season_temp\"].reindex(ph.index)"
   ]
  },
  {
   "cell_type": "code",
   "execution_count": null,
   "id": "executive-exposure",
   "metadata": {},
   "outputs": [],
   "source": [
    "#check if any ids are missing\n",
    "assert not ph.isnull().values.any()\n",
    "\n",
    "# assert that samples of ph and soil are identical\n",
    "assert set(soil.columns) == set(ph.index)"
   ]
  },
  {
   "cell_type": "markdown",
   "id": "intimate-premium",
   "metadata": {},
   "source": [
    "### CLR-transformation of X"
   ]
  },
  {
   "cell_type": "markdown",
   "id": "ce623676",
   "metadata": {},
   "source": [
    "##### Dataframe `soil` need to be of shape (p,N) for normalizing to simplex + clr transform"
   ]
  },
  {
   "cell_type": "code",
   "execution_count": null,
   "id": "grand-crazy",
   "metadata": {},
   "outputs": [],
   "source": [
    "soil.shape"
   ]
  },
  {
   "cell_type": "code",
   "execution_count": null,
   "id": "textile-subsection",
   "metadata": {},
   "outputs": [],
   "source": [
    "X = normalize(soil)\n",
    "X.sum(axis=0)"
   ]
  },
  {
   "cell_type": "code",
   "execution_count": null,
   "id": "concerned-spectacular",
   "metadata": {},
   "outputs": [],
   "source": [
    "X = log_transform(X)\n",
    "(p,N) = X.shape\n",
    "(p,N)"
   ]
  },
  {
   "cell_type": "markdown",
   "id": "colonial-tamil",
   "metadata": {},
   "source": [
    "### Calculate covariance and scale to correlations"
   ]
  },
  {
   "cell_type": "code",
   "execution_count": null,
   "id": "radio-triumph",
   "metadata": {},
   "outputs": [],
   "source": [
    "S0 = np.cov(X.values, bias = True)\n",
    "S = scale_array_by_diagonal(S0)\n",
    "np.diag(S)"
   ]
  },
  {
   "cell_type": "markdown",
   "id": "broadband-terry",
   "metadata": {},
   "source": [
    "### GGLasso problem and model selection"
   ]
  },
  {
   "cell_type": "code",
   "execution_count": null,
   "id": "median-support",
   "metadata": {
    "scrolled": true
   },
   "outputs": [],
   "source": [
    "P = glasso_problem(S, N, latent = True, do_scaling = False)\n",
    "print(P)\n",
    "\n",
    "#lambda1_range = [0.14447343]\n",
    "#mu1_range = [2.36]\n",
    "\n",
    "lambda1_range = np.logspace(0.5,-1.5,8)\n",
    "mu1_range = np.logspace(1.5,-0.2,6)\n",
    "\n",
    "\n",
    "modelselect_params = {'lambda1_range': lambda1_range, 'mu1_range': mu1_range}\n",
    "\n",
    "P.model_selection(modelselect_params = modelselect_params, method = 'eBIC', gamma = 0.25)\n",
    "\n",
    "# regularization parameters are set to the best ones found during model selection\n",
    "print(P.reg_params)"
   ]
  },
  {
   "cell_type": "markdown",
   "id": "67d74e28",
   "metadata": {},
   "source": [
    "### Plot results from model selection"
   ]
  },
  {
   "cell_type": "code",
   "execution_count": null,
   "id": "2c36b385",
   "metadata": {},
   "outputs": [],
   "source": [
    "fig, axs = plt.subplots(1,2,figsize=(18,12))\n",
    "sns.heatmap(P.modelselect_stats[\"RANK\"], annot = True, square = True, cbar = False, \\\n",
    "            yticklabels = np.round(lambda1_range,2), xticklabels = np.round(mu1_range,2), ax = axs[0])\n",
    "axs[0].set_title(\"Rank of L\")\n",
    "sns.heatmap(np.round(P.modelselect_stats[\"SP\"],2), annot = True, square = True, cbar = False, \\\n",
    "            yticklabels = np.round(lambda1_range,2), xticklabels = np.round(mu1_range,2), ax = axs[1])\n",
    "axs[1].set_title(\"Sparsity of Theta\")"
   ]
  },
  {
   "cell_type": "code",
   "execution_count": null,
   "id": "4c2fb6e9",
   "metadata": {},
   "outputs": [],
   "source": [
    "from mpl_toolkits.mplot3d import Axes3D\n",
    "def single_surface_plot(L1, MU1, C, ax, name = 'eBIC'):\n",
    "    \n",
    "    X = np.log10(L1)\n",
    "    Y = np.log10(MU1)\n",
    "    Z = np.log(C)\n",
    "    ax.plot_surface(X, Y, Z , cmap = plt.cm.ocean, linewidth=0, antialiased=True)\n",
    "    \n",
    "    ax.set_xlabel(r'$\\lambda_1$', fontsize = 14)\n",
    "    ax.set_ylabel(r'$\\mu1$', fontsize = 14)\n",
    "    ax.set_zlabel(name, fontsize = 14)\n",
    "    ax.view_init(elev = 18, azim = 51)\n",
    "    \n",
    "    plt.xticks(fontsize = 8)\n",
    "    plt.yticks(fontsize = 8)\n",
    "    ax.zaxis.set_tick_params(labelsize=8)\n",
    "    \n",
    "    ax.tick_params(axis='both', which='major', pad=.5)\n",
    "    \n",
    "    for label in ax.xaxis.get_ticklabels()[::2]:\n",
    "        label.set_visible(False)\n",
    "    for label in ax.yaxis.get_ticklabels()[::2]:\n",
    "        label.set_visible(False)\n",
    "    for label in ax.zaxis.get_ticklabels()[::2]:\n",
    "        label.set_visible(False)\n",
    "    \n",
    "    return\n",
    "\n",
    "fig = plt.figure(figsize = (20,10))  \n",
    "fig.suptitle(\"eBIC surface for different gamma value\")\n",
    "\n",
    "C = P.modelselect_stats[\"BIC\"]\n",
    "gammas = np.sort(list(C.keys()))\n",
    "        \n",
    "for j in np.arange(len(gammas)):\n",
    "    ax = fig.add_subplot(2, 3, j+1, projection='3d')\n",
    "    single_surface_plot(P.modelselect_stats[\"LAMBDA\"], P.modelselect_stats[\"MU\"], C[gammas[j]], ax)\n",
    "    if gammas is not None:\n",
    "        ax.set_title(rf\"$\\gamma = $ {gammas[j]}\")\n",
    "    "
   ]
  },
  {
   "cell_type": "markdown",
   "id": "0665a67a",
   "metadata": {},
   "source": [
    "The solution of Graphical Lasso with latent variables has the form $\\Theta-L$ where $\\Theta$ is sparse and $L$ has low rank."
   ]
  },
  {
   "cell_type": "code",
   "execution_count": null,
   "id": "satisfactory-jewelry",
   "metadata": {},
   "outputs": [],
   "source": [
    "L = P.solution.lowrank_\n",
    "r = np.linalg.matrix_rank(L)\n",
    "print('Rank of low-rank component: {0}'.format(r))"
   ]
  },
  {
   "cell_type": "code",
   "execution_count": null,
   "id": "2451b612",
   "metadata": {},
   "outputs": [],
   "source": [
    "fig, axs = plt.subplots(1,2, figsize = (20,8))\n",
    "sns.heatmap(P.solution.precision_, ax = axs[0], cmap = \"coolwarm\", vmin = -0.5, vmax = 0.5, cbar = False, square = True)\n",
    "axs[0].set_title(\"Heatmap of Theta\")\n",
    "sns.heatmap(L, ax = axs[1], cmap = \"coolwarm\", vmin = -0.05, vmax = 0.05, cbar = False, square = True)\n",
    "axs[1].set_title(\"Heatmap of L\")\n"
   ]
  },
  {
   "cell_type": "markdown",
   "id": "192ceb01",
   "metadata": {},
   "source": [
    "### Robust PCA in GGLasso"
   ]
  },
  {
   "cell_type": "markdown",
   "id": "17ec89ae",
   "metadata": {},
   "source": [
    "We use the low rank component of the Graphical Lasso solution in order to do a robust PCA. For this, we use the eigendecomposition\n",
    "\n",
    "$$L = V \\Sigma V^T$$\n",
    "\n",
    "where the columns of $V$ are the orthonormal eigenvecors and $\\Sigma$ is diagonal containing the eigenvalues.\n",
    "Denote the columns of $V$ corresponding only to positive eigenvalues with $\\tilde{V} \\in \\mathbb{R}^{p\\times r}$ and $\\tilde{\\Sigma} \\in \\mathbb{R}^{r\\times r}$ accordingly, where $r=\\mathrm{rank}(L)$. Then we have \n",
    "\n",
    "$$L = \\tilde{V} \\tilde{\\Sigma} \\tilde{V}^T.$$\n",
    "\n",
    "Now we project the data matrix $X\\in \\mathbb{R}^{p\\times N}$ onto the eigenspaces of $L^{-1}$ - which are the same as of $L$ - by computing\n",
    "\n",
    "$$U := X^T \\tilde{V}\\tilde{\\Sigma}$$\n",
    "\n",
    "We plot the columns of $U$ vs. the vector of pH values."
   ]
  },
  {
   "cell_type": "code",
   "execution_count": null,
   "id": "b23bad68",
   "metadata": {},
   "outputs": [],
   "source": [
    "def robust_PCA(X, L, inverse=True):\n",
    "    sig, V = np.linalg.eigh(L)\n",
    "       \n",
    "    # sort eigenvalues in descending order\n",
    "    sig = sig[::-1]\n",
    "    V = V[:,::-1]    \n",
    "    \n",
    "    ind = np.argwhere(sig > 1e-9)\n",
    "    \n",
    "    if inverse:\n",
    "        loadings = V[:,ind] @ np.diag(np.sqrt(1/sig[ind]))\n",
    "    else:\n",
    "        loadings = V[:,ind] @ np.diag(np.sqrt(sig[ind]))\n",
    "    \n",
    "    # compute the projection\n",
    "    zu = X.values.T @ loadings\n",
    "    \n",
    "    return zu, loadings, np.round(sig[ind].squeeze(),3)\n",
    "\n",
    "L = P.solution.lowrank_\n",
    "proj, loadings, eigv = robust_PCA(X, L, inverse=True)\n",
    "r = np.linalg.matrix_rank(L)"
   ]
  },
  {
   "cell_type": "markdown",
   "id": "bc632397",
   "metadata": {},
   "source": [
    "### Plot GGLasso/pH correlation"
   ]
  },
  {
   "cell_type": "code",
   "execution_count": null,
   "id": "ae61f128",
   "metadata": {},
   "outputs": [],
   "source": [
    "for i in range(r):\n",
    "    fig, ax = plt.subplots(1,1)\n",
    "    im = ax.scatter(proj[:,i], ph, c = depth, cmap = plt.cm.Blues, vmin = 0)\n",
    "    cbar = fig.colorbar(im)\n",
    "    cbar.set_label(\"Sampling depth\")\n",
    "    ax.set_xlabel(f\"PCA component {i+1} with eigenvalue {eigv[i]}\")\n",
    "    ax.set_ylabel(\"pH\")\n",
    "\n"
   ]
  },
  {
   "cell_type": "code",
   "execution_count": null,
   "id": "8f3eb7b1",
   "metadata": {},
   "outputs": [],
   "source": [
    "for i in range(r):\n",
    "    print(\"Spearman correlation between pH and {0}th component: {1}, p-value: {2}\".format(i+1, stats.spearmanr(ph, proj[:,i])[0], \n",
    "                                                                              stats.spearmanr(ph, proj[:,i])[1]))"
   ]
  },
  {
   "cell_type": "markdown",
   "id": "miniature-membrane",
   "metadata": {},
   "source": [
    "## SpiecEasi results with lambda = 0.14447343, rank=6"
   ]
  },
  {
   "cell_type": "code",
   "execution_count": null,
   "id": "bridal-morocco",
   "metadata": {},
   "outputs": [],
   "source": [
    "SE_lowrank = pyreadr.read_r('../../data/soil/SE_lowrank.rds')\n",
    "SE_lowrank = np.array(SE_lowrank[None])\n",
    "SE_lowrank.shape"
   ]
  },
  {
   "cell_type": "code",
   "execution_count": null,
   "id": "growing-plenty",
   "metadata": {},
   "outputs": [],
   "source": [
    "se_rank = np.linalg.matrix_rank(SE_lowrank)\n",
    "print('Rank of low-rank component: {0}'.format(se_rank))"
   ]
  },
  {
   "cell_type": "markdown",
   "id": "continental-frederick",
   "metadata": {},
   "source": [
    "### Compare low rank SpiecEasi vs GGLasso"
   ]
  },
  {
   "cell_type": "code",
   "execution_count": null,
   "id": "solid-hormone",
   "metadata": {},
   "outputs": [],
   "source": [
    "np.allclose(SE_lowrank, L, atol=1e-1)"
   ]
  },
  {
   "cell_type": "code",
   "execution_count": null,
   "id": "challenging-montana",
   "metadata": {},
   "outputs": [],
   "source": [
    "fig, axs = plt.subplots(1,2, figsize = (20,8))\n",
    "sns.heatmap(SE_lowrank, ax = axs[0], cmap = \"coolwarm\", vmin = -0.1, vmax = 0.1, cbar = False, square = True)\n",
    "sns.heatmap(L, ax = axs[1], cmap = \"coolwarm\", vmin = -0.1, vmax = 0.1, cbar = False, square = True)"
   ]
  },
  {
   "cell_type": "markdown",
   "id": "informational-writing",
   "metadata": {},
   "source": [
    "### Robust PCA in [SpiecEasi](https://github.com/zdk123/SpiecEasi/blob/ff528b23fafbd455efcca9dd356bef28951edf82/R/SparseLowRankICov.R)"
   ]
  },
  {
   "cell_type": "markdown",
   "id": "banner-savings",
   "metadata": {},
   "source": [
    "### Plot SE/pH correlation"
   ]
  },
  {
   "cell_type": "code",
   "execution_count": null,
   "id": "norman-north",
   "metadata": {},
   "outputs": [],
   "source": [
    "zu_SE, se_loadings, se_eigv = robust_PCA(X, SE_lowrank, inverse=True)\n",
    "zu_SE.shape"
   ]
  },
  {
   "cell_type": "code",
   "execution_count": null,
   "id": "bacterial-daily",
   "metadata": {},
   "outputs": [],
   "source": [
    "for i in range(se_rank):\n",
    "    plt.scatter(zu_SE[:,i], ph, c = depth, cmap = plt.cm.Blues, vmin = 0)\n",
    "    cbar = plt.colorbar()\n",
    "    cbar.set_label(\"Sampling depth\")\n",
    "    plt.xlabel(f\"PCA component {i+1} with eigenvalue {se_eigv[i]}\")\n",
    "    plt.ylabel(\"pH\")\n",
    "    plt.show()"
   ]
  },
  {
   "cell_type": "code",
   "execution_count": null,
   "id": "greek-trace",
   "metadata": {},
   "outputs": [],
   "source": [
    "for i in range(se_rank):\n",
    "    print(\"Spearman correlation between pH and {0}th component: {1}, p-value: {2}\".format(i+1, stats.spearmanr(ph, zu_SE[:,i])[0], \n",
    "                                                                              stats.spearmanr(ph, zu_SE[:,i])[1]))"
   ]
  },
  {
   "cell_type": "markdown",
   "id": "86c97fd8",
   "metadata": {},
   "source": [
    "### Correlation of zero-entries vs. low-rank"
   ]
  },
  {
   "cell_type": "code",
   "execution_count": null,
   "id": "8d434e76",
   "metadata": {},
   "outputs": [],
   "source": [
    "soil_0 = soil.replace(1, 0)\n",
    "soil_0_norm = soil_0.astype(bool).sum(axis=0)"
   ]
  },
  {
   "cell_type": "code",
   "execution_count": null,
   "id": "fa14035f",
   "metadata": {},
   "outputs": [],
   "source": [
    "for i in range(r):\n",
    "    fig, ax = plt.subplots(1,1)\n",
    "    im = ax.scatter(proj[:,i], temperature, c = depth, cmap = plt.cm.Blues, vmin = 0)\n",
    "    cbar = fig.colorbar(im)\n",
    "    cbar.set_label(\"Sampling depth\")\n",
    "    ax.set_xlabel(f\"PCA component {i+1} with eigenvalue {eigv[i]}\")\n",
    "    ax.set_ylabel(\"Temperature\")\n"
   ]
  },
  {
   "cell_type": "code",
   "execution_count": null,
   "id": "642bc953",
   "metadata": {},
   "outputs": [],
   "source": [
    "for i in range(r):\n",
    "    print(\"Spearman correlation between pH and {0}th component: {1}, p-value: {2}\".format(i+1, stats.spearmanr(temperature, proj[:,i])[0], \n",
    "                                                                              stats.spearmanr(temperature, proj[:,i])[1]))"
   ]
  }
 ],
 "metadata": {
  "kernelspec": {
   "display_name": "Python 3",
   "language": "python",
   "name": "python3"
  },
  "language_info": {
   "codemirror_mode": {
    "name": "ipython",
    "version": 3
   },
   "file_extension": ".py",
   "mimetype": "text/x-python",
   "name": "python",
   "nbconvert_exporter": "python",
   "pygments_lexer": "ipython3",
   "version": "3.7.10"
  }
 },
 "nbformat": 4,
 "nbformat_minor": 5
}
